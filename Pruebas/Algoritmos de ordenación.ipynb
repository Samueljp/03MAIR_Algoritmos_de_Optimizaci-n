{
 "cells": [
  {
   "cell_type": "code",
   "execution_count": 2,
   "metadata": {},
   "outputs": [],
   "source": [
    "def bubble_sort(p_list):\n",
    "    for i in range(len(p_list)-1):\n",
    "        for j in range(len(p_list)-1):\n",
    "            if p_list[j] > p_list[j+1]:\n",
    "                p_list[j], p_list[j+1] = p_list[j+1], p_list[j]\n",
    "    return p_list                                 "
   ]
  },
  {
   "cell_type": "code",
   "execution_count": 3,
   "metadata": {},
   "outputs": [],
   "source": [
    "alist = [54,26,93,17,77,31,44,55,20]"
   ]
  },
  {
   "cell_type": "code",
   "execution_count": 4,
   "metadata": {},
   "outputs": [
    {
     "name": "stdout",
     "output_type": "stream",
     "text": [
      "[17, 20, 26, 31, 44, 54, 55, 77, 93]\n"
     ]
    }
   ],
   "source": [
    "wlist = bubble_sort(alist)\n",
    "print(wlist)"
   ]
  },
  {
   "cell_type": "code",
   "execution_count": 11,
   "metadata": {},
   "outputs": [],
   "source": [
    "def quicksort(lista,izq,der):\n",
    "    i=izq\n",
    "    j=der\n",
    "    x=lista[int((izq + der)/2)]\n",
    " \n",
    "    while( i <= j ):\n",
    "        while lista[i]<x and j<=der:\n",
    "            i=i+1\n",
    "        while x<lista[j] and j>izq:\n",
    "            j=j-1\n",
    "        if i<=j:\n",
    "            aux = lista[i]\n",
    "            lista[i] = lista[j]\n",
    "            lista[j] = aux\n",
    "            i=i+1\n",
    "            j=j-1\n",
    " \n",
    "        if izq < j:\n",
    "            quicksort(lista,izq,j)\n",
    "    if i < der:\n",
    "        quicksort( lista, i, der )"
   ]
  },
  {
   "cell_type": "code",
   "execution_count": 13,
   "metadata": {},
   "outputs": [
    {
     "data": {
      "text/plain": [
       "[17, 20, 26, 31, 44, 54, 55, 77, 93]"
      ]
     },
     "execution_count": 13,
     "metadata": {},
     "output_type": "execute_result"
    }
   ],
   "source": [
    "alist = [54,26,93,17,77,31,44,55,20]\n",
    "quicksort(alist,0,len(alist)-1)\n",
    "alist"
   ]
  },
  {
   "cell_type": "code",
   "execution_count": null,
   "metadata": {},
   "outputs": [],
   "source": []
  }
 ],
 "metadata": {
  "kernelspec": {
   "display_name": "Python 3",
   "language": "python",
   "name": "python3"
  },
  "language_info": {
   "codemirror_mode": {
    "name": "ipython",
    "version": 3
   },
   "file_extension": ".py",
   "mimetype": "text/x-python",
   "name": "python",
   "nbconvert_exporter": "python",
   "pygments_lexer": "ipython3",
   "version": "3.7.2"
  }
 },
 "nbformat": 4,
 "nbformat_minor": 2
}
