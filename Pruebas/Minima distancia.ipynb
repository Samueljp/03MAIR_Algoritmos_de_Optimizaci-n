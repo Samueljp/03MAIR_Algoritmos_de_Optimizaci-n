{
  "nbformat": 4,
  "nbformat_minor": 0,
  "metadata": {
    "colab": {
      "name": "Minima distancia.ipynb",
      "version": "0.3.2",
      "provenance": [],
      "include_colab_link": true
    },
    "kernelspec": {
      "display_name": "Python 3",
      "language": "python",
      "name": "python3"
    }
  },
  "cells": [
    {
      "cell_type": "markdown",
      "metadata": {
        "id": "view-in-github",
        "colab_type": "text"
      },
      "source": [
        "<a href=\"https://colab.research.google.com/github/Samueljp/03MAIR_Algoritmos_de_Optimizaci-n/blob/develop/Pruebas/Minima%20distancia.ipynb\" target=\"_parent\"><img src=\"https://colab.research.google.com/assets/colab-badge.svg\" alt=\"Open In Colab\"/></a>"
      ]
    },
    {
      "metadata": {
        "id": "4ggLHCiT-Qvy",
        "colab_type": "text"
      },
      "cell_type": "markdown",
      "source": [
        "### Práctica individual de obtener menor distancias\n",
        "Se realizarán rutinas para obtener la minima distancia entre los puntos de una lista"
      ]
    },
    {
      "metadata": {
        "id": "A8W_WQKn-Qv0",
        "colab_type": "code",
        "colab": {}
      },
      "cell_type": "code",
      "source": [
        "import random\n",
        "Lista_1d = [random.randrange(1,10000) for x in range (10)]\n",
        "Lista_1db = [random.randrange(1,100000) for x in range (100)]\n",
        "Lista_1dc = [random.randrange(1,1000000) for x in range (1000)]"
      ],
      "execution_count": 0,
      "outputs": []
    },
    {
      "metadata": {
        "id": "VJLNUzkE-Qv3",
        "colab_type": "text"
      },
      "cell_type": "markdown",
      "source": [
        "#### Método por fuerza bruta"
      ]
    },
    {
      "metadata": {
        "id": "DK1uhZLN-Qv4",
        "colab_type": "code",
        "colab": {}
      },
      "cell_type": "code",
      "source": [
        "#Lista_1d\n",
        "\n",
        "# Función para minima distancia en listas con FUERZA BRUTA\n",
        "# Complejidad O(n^2)\n",
        "def minimunDistanceList1(p_list):\n",
        "    # Variable de salida inicializada con valores nulos\n",
        "    better = (-1,-1,9999)\n",
        "    # Bucle para recorrer desde el primer al penultimo elemento\n",
        "    for i in range(len(p_list)-1):\n",
        "        # Bucle para recorrer desde el segundo hasta el último elemento\n",
        "        for j in range(1,len(p_list)):\n",
        "            \n",
        "            # Condición de continuar si comparo un elemento consigo mismo\n",
        "            if i == j: continue\n",
        "            \n",
        "            # Condición para mejorar el valor guardado\n",
        "            if abs(p_list[i]-p_list[j]) < better[2]:\n",
        "                # Salida de valor mejorado\n",
        "                print(\"xPos: %d , yPos: %d , value2: %d , value2: %d , abs(value1-value2): %d\" \n",
        "                      % (i,j,p_list[i],p_list[j],abs(p_list[i]-p_list[j])))\n",
        "                # Asignación del mejor valor\n",
        "                better = (i,j,abs(p_list[i]-p_list[j]))\n",
        "         # Fin de segundo bucle\n",
        "    # Fin de primer bucle\n",
        "    return better\n",
        "        "
      ],
      "execution_count": 0,
      "outputs": []
    },
    {
      "metadata": {
        "id": "4gAe7S9W-Qv7",
        "colab_type": "code",
        "colab": {
          "base_uri": "https://localhost:8080/",
          "height": 119
        },
        "outputId": "55135de9-54b3-4efa-a300-e229dfae333d"
      },
      "cell_type": "code",
      "source": [
        "minimunDistanceList1(Lista_1d)"
      ],
      "execution_count": 3,
      "outputs": [
        {
          "output_type": "stream",
          "text": [
            "xPos: 0 , yPos: 1 , value2: 9339 , value2: 5272 , abs(value1-value2): 4067\n",
            "xPos: 0 , yPos: 5 , value2: 9339 , value2: 7243 , abs(value1-value2): 2096\n",
            "xPos: 0 , yPos: 8 , value2: 9339 , value2: 9435 , abs(value1-value2): 96\n",
            "xPos: 2 , yPos: 9 , value2: 3380 , value2: 3467 , abs(value1-value2): 87\n",
            "xPos: 3 , yPos: 7 , value2: 4774 , value2: 4804 , abs(value1-value2): 30\n"
          ],
          "name": "stdout"
        },
        {
          "output_type": "execute_result",
          "data": {
            "text/plain": [
              "(3, 7, 30)"
            ]
          },
          "metadata": {
            "tags": []
          },
          "execution_count": 3
        }
      ]
    },
    {
      "metadata": {
        "id": "EHSY_uB7-Qv_",
        "colab_type": "text"
      },
      "cell_type": "markdown",
      "source": [
        "###### Conclusión:\n",
        "La complejidad del algoritmo es o(n^2)"
      ]
    },
    {
      "metadata": {
        "id": "Xm_M4VSg-QwA",
        "colab_type": "text"
      },
      "cell_type": "markdown",
      "source": [
        "#### Método mejorado con recursividad y técnica divide y vencerás con backtraking"
      ]
    },
    {
      "metadata": {
        "id": "YJ9-Invo-QwB",
        "colab_type": "code",
        "colab": {}
      },
      "cell_type": "code",
      "source": [
        "# Método que recive una lista, el resto de parametros no son necesarios\n",
        "# Complejidad O(n*n)\n",
        "def minimumDistanceList2(p_list, i_pos = 0, better = 0, iteraciones = 0):\n",
        "    if better == 0: better = (-1,-1,9999999999)\n",
        "    if i_pos == len(p_list) : return better, iteraciones\n",
        "    # Recorremos la lista desde el índice dado hasta el penúltimo elemento\n",
        "    for i in range(i_pos+1,len(p_list)-1):\n",
        "        iteraciones +=1\n",
        "        # Compramos con el actual mejor resultado\n",
        "        if (abs(p_list[i_pos]-p_list[i]) < better[2]):\n",
        "            # print(\"xPos: %d, yPos: %d, value2: %d, value2: %d, abs(value1-value2): %d\" % (i_pos,i,p_list[i_pos],p_list[i],abs(p_list[i_pos]-p_list[i])))\n",
        "            # Asignación del mejor valor\n",
        "            better = (i_pos,i,abs(p_list[i_pos]-p_list[i]))\n",
        "    # Llamamos a la función con el siguiente índice\n",
        "    better,iteraciones = minimumDistanceList2(p_list,i_pos+1,better,iteraciones)\n",
        "    return better,iteraciones"
      ],
      "execution_count": 0,
      "outputs": []
    },
    {
      "metadata": {
        "id": "wd4yQObT-QwD",
        "colab_type": "code",
        "colab": {}
      },
      "cell_type": "code",
      "source": [
        "#import sys\n",
        "# print (sys.getrecursionlimit())\n",
        "import random\n",
        "Lista_1d = [random.randrange(1,10000) for x in range (10)]\n",
        "Lista_1db = [random.randrange(1,100000) for x in range (100)]\n",
        "Lista_1dc = [random.randrange(1,1000000) for x in range (1000)]"
      ],
      "execution_count": 0,
      "outputs": []
    },
    {
      "metadata": {
        "id": "9cEGgKVD-QwG",
        "colab_type": "code",
        "colab": {
          "base_uri": "https://localhost:8080/",
          "height": 571
        },
        "outputId": "63ef0358-b378-4595-f305-4752bf45685f"
      },
      "cell_type": "code",
      "source": [
        "better, iteraciones = minimumDistanceList2(Lista_1d)\n",
        "print(\"A finish array_lenght \"+ str(len(Lista_1d)))\n",
        "print(\"Better distance: %d, list[%d] = %d, list[%d] = %d\" %(better[2],better[0],Lista_1d[better[0]],better[1],Lista_1d[better[1]])  )\n",
        "print(\"Iteraciones: %d \" %iteraciones)\n",
        "better, iteraciones = minimumDistanceList2(Lista_1db)\n",
        "print(\"B finish array_lenght \"+ str(len(Lista_1db)))\n",
        "print(\"Better distance: %d, list[%d] = %d, list[%d] = %d\" %(better[2],better[0],Lista_1db[better[0]],better[1],Lista_1db[better[1]])  )\n",
        "print(\"Iteraciones: %d \" %iteraciones)\n",
        "better, iteraciones = minimumDistanceList2(Lista_1dc)\n",
        "print(\"C finish array_lenght \"+ str(len(Lista_1dc)))\n",
        "print(\"Better distance: %d, list[%d] = %d, list[%d] = %d\" %(better[2],better[0],Lista_1dc[better[0]],better[1],Lista_1dc[better[1]])  )\n",
        "print(\"Iteraciones: %d \" %iteraciones)"
      ],
      "execution_count": 6,
      "outputs": [
        {
          "output_type": "stream",
          "text": [
            "A finish array_lenght 10\n",
            "Better distance: 23, list[3] = 5498, list[7] = 5475\n",
            "Iteraciones: 36 \n",
            "B finish array_lenght 100\n",
            "Better distance: 2, list[38] = 6782, list[65] = 6780\n",
            "Iteraciones: 4851 \n"
          ],
          "name": "stdout"
        },
        {
          "output_type": "error",
          "ename": "RecursionError",
          "evalue": "ignored",
          "traceback": [
            "\u001b[0;31m---------------------------------------------------------------------------\u001b[0m",
            "\u001b[0;31mRecursionError\u001b[0m                            Traceback (most recent call last)",
            "\u001b[0;32m<ipython-input-6-2b698bd94440>\u001b[0m in \u001b[0;36m<module>\u001b[0;34m()\u001b[0m\n\u001b[1;32m      7\u001b[0m \u001b[0mprint\u001b[0m\u001b[0;34m(\u001b[0m\u001b[0;34m\"Better distance: %d, list[%d] = %d, list[%d] = %d\"\u001b[0m \u001b[0;34m%\u001b[0m\u001b[0;34m(\u001b[0m\u001b[0mbetter\u001b[0m\u001b[0;34m[\u001b[0m\u001b[0;36m2\u001b[0m\u001b[0;34m]\u001b[0m\u001b[0;34m,\u001b[0m\u001b[0mbetter\u001b[0m\u001b[0;34m[\u001b[0m\u001b[0;36m0\u001b[0m\u001b[0;34m]\u001b[0m\u001b[0;34m,\u001b[0m\u001b[0mLista_1db\u001b[0m\u001b[0;34m[\u001b[0m\u001b[0mbetter\u001b[0m\u001b[0;34m[\u001b[0m\u001b[0;36m0\u001b[0m\u001b[0;34m]\u001b[0m\u001b[0;34m]\u001b[0m\u001b[0;34m,\u001b[0m\u001b[0mbetter\u001b[0m\u001b[0;34m[\u001b[0m\u001b[0;36m1\u001b[0m\u001b[0;34m]\u001b[0m\u001b[0;34m,\u001b[0m\u001b[0mLista_1db\u001b[0m\u001b[0;34m[\u001b[0m\u001b[0mbetter\u001b[0m\u001b[0;34m[\u001b[0m\u001b[0;36m1\u001b[0m\u001b[0;34m]\u001b[0m\u001b[0;34m]\u001b[0m\u001b[0;34m)\u001b[0m  \u001b[0;34m)\u001b[0m\u001b[0;34m\u001b[0m\u001b[0;34m\u001b[0m\u001b[0m\n\u001b[1;32m      8\u001b[0m \u001b[0mprint\u001b[0m\u001b[0;34m(\u001b[0m\u001b[0;34m\"Iteraciones: %d \"\u001b[0m \u001b[0;34m%\u001b[0m\u001b[0miteraciones\u001b[0m\u001b[0;34m)\u001b[0m\u001b[0;34m\u001b[0m\u001b[0;34m\u001b[0m\u001b[0m\n\u001b[0;32m----> 9\u001b[0;31m \u001b[0mbetter\u001b[0m\u001b[0;34m,\u001b[0m \u001b[0miteraciones\u001b[0m \u001b[0;34m=\u001b[0m \u001b[0mminimumDistanceList2\u001b[0m\u001b[0;34m(\u001b[0m\u001b[0mLista_1dc\u001b[0m\u001b[0;34m)\u001b[0m\u001b[0;34m\u001b[0m\u001b[0;34m\u001b[0m\u001b[0m\n\u001b[0m\u001b[1;32m     10\u001b[0m \u001b[0mprint\u001b[0m\u001b[0;34m(\u001b[0m\u001b[0;34m\"C finish array_lenght \"\u001b[0m\u001b[0;34m+\u001b[0m \u001b[0mstr\u001b[0m\u001b[0;34m(\u001b[0m\u001b[0mlen\u001b[0m\u001b[0;34m(\u001b[0m\u001b[0mLista_1dc\u001b[0m\u001b[0;34m)\u001b[0m\u001b[0;34m)\u001b[0m\u001b[0;34m)\u001b[0m\u001b[0;34m\u001b[0m\u001b[0;34m\u001b[0m\u001b[0m\n\u001b[1;32m     11\u001b[0m \u001b[0mprint\u001b[0m\u001b[0;34m(\u001b[0m\u001b[0;34m\"Better distance: %d, list[%d] = %d, list[%d] = %d\"\u001b[0m \u001b[0;34m%\u001b[0m\u001b[0;34m(\u001b[0m\u001b[0mbetter\u001b[0m\u001b[0;34m[\u001b[0m\u001b[0;36m2\u001b[0m\u001b[0;34m]\u001b[0m\u001b[0;34m,\u001b[0m\u001b[0mbetter\u001b[0m\u001b[0;34m[\u001b[0m\u001b[0;36m0\u001b[0m\u001b[0;34m]\u001b[0m\u001b[0;34m,\u001b[0m\u001b[0mLista_1dc\u001b[0m\u001b[0;34m[\u001b[0m\u001b[0mbetter\u001b[0m\u001b[0;34m[\u001b[0m\u001b[0;36m0\u001b[0m\u001b[0;34m]\u001b[0m\u001b[0;34m]\u001b[0m\u001b[0;34m,\u001b[0m\u001b[0mbetter\u001b[0m\u001b[0;34m[\u001b[0m\u001b[0;36m1\u001b[0m\u001b[0;34m]\u001b[0m\u001b[0;34m,\u001b[0m\u001b[0mLista_1dc\u001b[0m\u001b[0;34m[\u001b[0m\u001b[0mbetter\u001b[0m\u001b[0;34m[\u001b[0m\u001b[0;36m1\u001b[0m\u001b[0;34m]\u001b[0m\u001b[0;34m]\u001b[0m\u001b[0;34m)\u001b[0m  \u001b[0;34m)\u001b[0m\u001b[0;34m\u001b[0m\u001b[0;34m\u001b[0m\u001b[0m\n",
            "\u001b[0;32m<ipython-input-4-8dea09f4a182>\u001b[0m in \u001b[0;36mminimumDistanceList2\u001b[0;34m(p_list, i_pos, better, iteraciones)\u001b[0m\n\u001b[1;32m     11\u001b[0m             \u001b[0mbetter\u001b[0m \u001b[0;34m=\u001b[0m \u001b[0;34m(\u001b[0m\u001b[0mi_pos\u001b[0m\u001b[0;34m,\u001b[0m\u001b[0mi\u001b[0m\u001b[0;34m,\u001b[0m\u001b[0mabs\u001b[0m\u001b[0;34m(\u001b[0m\u001b[0mp_list\u001b[0m\u001b[0;34m[\u001b[0m\u001b[0mi_pos\u001b[0m\u001b[0;34m]\u001b[0m\u001b[0;34m-\u001b[0m\u001b[0mp_list\u001b[0m\u001b[0;34m[\u001b[0m\u001b[0mi\u001b[0m\u001b[0;34m]\u001b[0m\u001b[0;34m)\u001b[0m\u001b[0;34m)\u001b[0m\u001b[0;34m\u001b[0m\u001b[0;34m\u001b[0m\u001b[0m\n\u001b[1;32m     12\u001b[0m     \u001b[0;31m# Llamamos a la función con el siguiente índice\u001b[0m\u001b[0;34m\u001b[0m\u001b[0;34m\u001b[0m\u001b[0;34m\u001b[0m\u001b[0m\n\u001b[0;32m---> 13\u001b[0;31m     \u001b[0mbetter\u001b[0m\u001b[0;34m,\u001b[0m\u001b[0miteraciones\u001b[0m \u001b[0;34m=\u001b[0m \u001b[0mminimumDistanceList2\u001b[0m\u001b[0;34m(\u001b[0m\u001b[0mp_list\u001b[0m\u001b[0;34m,\u001b[0m\u001b[0mi_pos\u001b[0m\u001b[0;34m+\u001b[0m\u001b[0;36m1\u001b[0m\u001b[0;34m,\u001b[0m\u001b[0mbetter\u001b[0m\u001b[0;34m,\u001b[0m\u001b[0miteraciones\u001b[0m\u001b[0;34m)\u001b[0m\u001b[0;34m\u001b[0m\u001b[0;34m\u001b[0m\u001b[0m\n\u001b[0m\u001b[1;32m     14\u001b[0m     \u001b[0;32mreturn\u001b[0m \u001b[0mbetter\u001b[0m\u001b[0;34m,\u001b[0m\u001b[0miteraciones\u001b[0m\u001b[0;34m\u001b[0m\u001b[0;34m\u001b[0m\u001b[0m\n",
            "... last 1 frames repeated, from the frame below ...\n",
            "\u001b[0;32m<ipython-input-4-8dea09f4a182>\u001b[0m in \u001b[0;36mminimumDistanceList2\u001b[0;34m(p_list, i_pos, better, iteraciones)\u001b[0m\n\u001b[1;32m     11\u001b[0m             \u001b[0mbetter\u001b[0m \u001b[0;34m=\u001b[0m \u001b[0;34m(\u001b[0m\u001b[0mi_pos\u001b[0m\u001b[0;34m,\u001b[0m\u001b[0mi\u001b[0m\u001b[0;34m,\u001b[0m\u001b[0mabs\u001b[0m\u001b[0;34m(\u001b[0m\u001b[0mp_list\u001b[0m\u001b[0;34m[\u001b[0m\u001b[0mi_pos\u001b[0m\u001b[0;34m]\u001b[0m\u001b[0;34m-\u001b[0m\u001b[0mp_list\u001b[0m\u001b[0;34m[\u001b[0m\u001b[0mi\u001b[0m\u001b[0;34m]\u001b[0m\u001b[0;34m)\u001b[0m\u001b[0;34m)\u001b[0m\u001b[0;34m\u001b[0m\u001b[0;34m\u001b[0m\u001b[0m\n\u001b[1;32m     12\u001b[0m     \u001b[0;31m# Llamamos a la función con el siguiente índice\u001b[0m\u001b[0;34m\u001b[0m\u001b[0;34m\u001b[0m\u001b[0;34m\u001b[0m\u001b[0m\n\u001b[0;32m---> 13\u001b[0;31m     \u001b[0mbetter\u001b[0m\u001b[0;34m,\u001b[0m\u001b[0miteraciones\u001b[0m \u001b[0;34m=\u001b[0m \u001b[0mminimumDistanceList2\u001b[0m\u001b[0;34m(\u001b[0m\u001b[0mp_list\u001b[0m\u001b[0;34m,\u001b[0m\u001b[0mi_pos\u001b[0m\u001b[0;34m+\u001b[0m\u001b[0;36m1\u001b[0m\u001b[0;34m,\u001b[0m\u001b[0mbetter\u001b[0m\u001b[0;34m,\u001b[0m\u001b[0miteraciones\u001b[0m\u001b[0;34m)\u001b[0m\u001b[0;34m\u001b[0m\u001b[0;34m\u001b[0m\u001b[0m\n\u001b[0m\u001b[1;32m     14\u001b[0m     \u001b[0;32mreturn\u001b[0m \u001b[0mbetter\u001b[0m\u001b[0;34m,\u001b[0m\u001b[0miteraciones\u001b[0m\u001b[0;34m\u001b[0m\u001b[0;34m\u001b[0m\u001b[0m\n",
            "\u001b[0;31mRecursionError\u001b[0m: maximum recursion depth exceeded in comparison"
          ]
        }
      ]
    },
    {
      "metadata": {
        "id": "H3ABI0da-QwJ",
        "colab_type": "code",
        "colab": {}
      },
      "cell_type": "code",
      "source": [
        "import math\n",
        "def calcularDistanciaPuntos(p_1, p_2):\n",
        "    return math.sqrt((p_1[0] - p_2[0])*(p_1[0] - p_2[0] ) + (p_1[1] - p_2[1])*(p_1[1] - p_2[1]))"
      ],
      "execution_count": 0,
      "outputs": []
    },
    {
      "metadata": {
        "id": "bJQ5ar_M-QwL",
        "colab_type": "code",
        "colab": {}
      },
      "cell_type": "code",
      "source": [
        "#calcularDistanciaPuntos((1,1),(2,2))"
      ],
      "execution_count": 0,
      "outputs": []
    },
    {
      "metadata": {
        "id": "rv07stbV-QwO",
        "colab_type": "code",
        "colab": {}
      },
      "cell_type": "code",
      "source": [
        "# Método que recive una lista, el resto de parametros no son necesarios\n",
        "def minimumDistanceList2_2D(p_2d_list, i_pos = 0, better = 0, iteraciones = 0):\n",
        "    if better == 0: better = ((-1,-1),(-1,-1),9999999999)\n",
        "    if i_pos == len(p_2d_list) : return better, iteraciones\n",
        "    # Recorremos la lista desde el índice dado hasta el penúltimo elemento\n",
        "    for i in range(i_pos+1,len(p_2d_list)-1):\n",
        "        iteraciones +=1\n",
        "        # Compramos con el actual mejor resultado\n",
        "        if (calcularDistanciaPuntos(p_2d_list[i_pos],p_2d_list[i]) < better[2]):\n",
        "            # Asignación del mejor valor\n",
        "            better = (i_pos,i,calcularDistanciaPuntos(p_2d_list[i_pos],p_2d_list[i]))\n",
        "    # Llamamos a la función con el siguiente índice\n",
        "    better,iteraciones = minimumDistanceList2_2D(p_2d_list,i_pos+1,better,iteraciones)\n",
        "    return better,iteraciones"
      ],
      "execution_count": 0,
      "outputs": []
    },
    {
      "metadata": {
        "id": "QBgojXIg-QwQ",
        "colab_type": "code",
        "colab": {}
      },
      "cell_type": "code",
      "source": [
        "Lista_2da = [(random.randrange(1,10000),random.randrange(1,10000)) for x in range (10)]\n",
        "Lista_2d = [(random.randrange(1,100000),random.randrange(1,100000)) for x in range (100)]\n",
        "Lista_2dc = [(random.randrange(1,1000000),random.randrange(1,1000000)) for x in range (1000)]"
      ],
      "execution_count": 0,
      "outputs": []
    },
    {
      "metadata": {
        "id": "nAcPebn4-QwT",
        "colab_type": "code",
        "colab": {
          "base_uri": "https://localhost:8080/",
          "height": 68
        },
        "outputId": "3149eb82-55ad-42ec-d3ee-39cc31b1746f"
      },
      "cell_type": "code",
      "source": [
        "better, iteraciones = minimumDistanceList2_2D(Lista_2d)\n",
        "#print(Lista_2d)\n",
        "print(\"A finish array_lenght \"+ str(len(Lista_2d)))\n",
        "print(\"Better distance: %d, list[%d] = (%d,%d), list[%d] = (%d,%d)\" %(better[2],better[0],Lista_2d[better[0]][0],Lista_2d[better[0]][1],better[1],Lista_2d[better[1]][0],Lista_2d[better[1]][1]))\n",
        "print(\"Iteraciones: %d \" %iteraciones)\n"
      ],
      "execution_count": 11,
      "outputs": [
        {
          "output_type": "stream",
          "text": [
            "A finish array_lenght 100\n",
            "Better distance: 881, list[23] = (9970,36257), list[85] = (10847,36343)\n",
            "Iteraciones: 4851 \n"
          ],
          "name": "stdout"
        }
      ]
    },
    {
      "metadata": {
        "id": "pgyGZTEn-QwW",
        "colab_type": "text"
      },
      "cell_type": "markdown",
      "source": [
        "La complejidad final del algorimo de búsqueda de los dos puntos más cercanos para una lista NO ORDENADA de elementos es:\n",
        "\n",
        "\\begin{equation}\n",
        "    \\sum_{i=1}^{n-2} n*c + d\n",
        "\\end{equation}\n",
        "Siendo <b>n</b> el tamaño del array de entrada y <b>c</b> las operaciones constantes dentro del bucle del método y <b>d</b> las operaciones fuera del bucle\n",
        "\n",
        "P.E: para tamaño de lista 7 siempre se realizan 15 iteraciones = 1+2+3+4+5=15\n",
        "\n",
        "`\\sum_{i=1}^{N} N`"
      ]
    }
  ]
}