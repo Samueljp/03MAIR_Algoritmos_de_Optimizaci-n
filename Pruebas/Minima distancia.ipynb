{
 "cells": [
  {
   "cell_type": "markdown",
   "metadata": {},
   "source": [
    "### Práctica individual de obtener menor distancias\n",
    "Se realizarán rutinas para obtener la minima distancia entre los puntos de una lista"
   ]
  },
  {
   "cell_type": "code",
   "execution_count": 1,
   "metadata": {},
   "outputs": [],
   "source": [
    "import random\n",
    "Lista_1d = [random.randrange(1,10000) for x in range (10)]\n",
    "Lista_1db = [random.randrange(1,100000) for x in range (100)]\n",
    "Lista_1dc = [random.randrange(1,1000000) for x in range (1000)]"
   ]
  },
  {
   "cell_type": "markdown",
   "metadata": {},
   "source": [
    "#### Método por fuerza bruta"
   ]
  },
  {
   "cell_type": "code",
   "execution_count": 2,
   "metadata": {},
   "outputs": [],
   "source": [
    "#Lista_1d\n",
    "\n",
    "# Función para minima distancia en listas con FUERZA BRUTA\n",
    "# Complejidad O(n^2)\n",
    "def minimunDistanceList1(p_list):\n",
    "    # Variable de salida inicializada con valores nulos\n",
    "    better = (-1,-1,9999)\n",
    "    # Bucle para recorrer desde el primer al penultimo elemento\n",
    "    for i in range(len(p_list)-1):\n",
    "        # Bucle para recorrer desde el segundo hasta el último elemento\n",
    "        for j in range(1,len(p_list)):\n",
    "            \n",
    "            # Condición de continuar si comparo un elemento consigo mismo\n",
    "            if i == j: continue\n",
    "            \n",
    "            # Condición para mejorar el valor guardado\n",
    "            if abs(p_list[i]-p_list[j]) < better[2]:\n",
    "                # Salida de valor mejorado\n",
    "                print(\"xPos: %d , yPos: %d , value2: %d , value2: %d , abs(value1-value2): %d\" \n",
    "                      % (i,j,p_list[i],p_list[j],abs(p_list[i]-p_list[j])))\n",
    "                # Asignación del mejor valor\n",
    "                better = (i,j,abs(p_list[i]-p_list[j]))\n",
    "         # Fin de segundo bucle\n",
    "    # Fin de primer bucle\n",
    "    return better\n",
    "        "
   ]
  },
  {
   "cell_type": "code",
   "execution_count": 3,
   "metadata": {},
   "outputs": [
    {
     "name": "stdout",
     "output_type": "stream",
     "text": [
      "xPos: 0 , yPos: 1 , value2: 3364 , value2: 9964 , abs(value1-value2): 6600\n",
      "xPos: 0 , yPos: 2 , value2: 3364 , value2: 6756 , abs(value1-value2): 3392\n",
      "xPos: 0 , yPos: 4 , value2: 3364 , value2: 6464 , abs(value1-value2): 3100\n",
      "xPos: 0 , yPos: 5 , value2: 3364 , value2: 6115 , abs(value1-value2): 2751\n",
      "xPos: 0 , yPos: 9 , value2: 3364 , value2: 3751 , abs(value1-value2): 387\n",
      "xPos: 2 , yPos: 4 , value2: 6756 , value2: 6464 , abs(value1-value2): 292\n",
      "xPos: 4 , yPos: 6 , value2: 6464 , value2: 6193 , abs(value1-value2): 271\n",
      "xPos: 5 , yPos: 6 , value2: 6115 , value2: 6193 , abs(value1-value2): 78\n"
     ]
    },
    {
     "data": {
      "text/plain": [
       "(5, 6, 78)"
      ]
     },
     "execution_count": 3,
     "metadata": {},
     "output_type": "execute_result"
    }
   ],
   "source": [
    "minimunDistanceList1(Lista_1d)"
   ]
  },
  {
   "cell_type": "markdown",
   "metadata": {},
   "source": [
    "###### Conclusión:\n",
    "La complejidad del algoritmo es o(n^2)"
   ]
  },
  {
   "cell_type": "markdown",
   "metadata": {},
   "source": [
    "#### Método mejorado con recursividad y técnica divide y vencerás con backtraking"
   ]
  },
  {
   "cell_type": "code",
   "execution_count": 4,
   "metadata": {},
   "outputs": [],
   "source": [
    "# Método que recive una lista, el resto de parametros no son necesarios\n",
    "# Complejidad O(n*n)\n",
    "def minimumDistanceList2(p_list, i_pos = 0, better = 0, iteraciones = 0):\n",
    "    if better == 0: better = (-1,-1,9999999999)\n",
    "    if i_pos == len(p_list) : return better, iteraciones\n",
    "    # Recorremos la lista desde el índice dado hasta el penúltimo elemento\n",
    "    for i in range(i_pos+1,len(p_list)-1):\n",
    "        iteraciones +=1\n",
    "        # Compramos con el actual mejor resultado\n",
    "        if (abs(p_list[i_pos]-p_list[i]) < better[2]):\n",
    "            # print(\"xPos: %d, yPos: %d, value2: %d, value2: %d, abs(value1-value2): %d\" % (i_pos,i,p_list[i_pos],p_list[i],abs(p_list[i_pos]-p_list[i])))\n",
    "            # Asignación del mejor valor\n",
    "            better = (i_pos,i,abs(p_list[i_pos]-p_list[i]))\n",
    "    # Llamamos a la función con el siguiente índice\n",
    "    better,iteraciones = minimumDistanceList2(p_list,i_pos+1,better,iteraciones)\n",
    "    return better,iteraciones"
   ]
  },
  {
   "cell_type": "code",
   "execution_count": 5,
   "metadata": {},
   "outputs": [],
   "source": [
    "#import sys\n",
    "# print (sys.getrecursionlimit())\n",
    "import random\n",
    "Lista_1d = [random.randrange(1,10000) for x in range (10)]\n",
    "Lista_1db = [random.randrange(1,100000) for x in range (100)]\n",
    "Lista_1dc = [random.randrange(1,1000000) for x in range (1000)]"
   ]
  },
  {
   "cell_type": "code",
   "execution_count": 6,
   "metadata": {},
   "outputs": [
    {
     "name": "stdout",
     "output_type": "stream",
     "text": [
      "A finish array_lenght 10\n",
      "Better distance: 20, list[4] = 1154, list[5] = 1174\n",
      "Iteraciones: 36 \n",
      "B finish array_lenght 100\n",
      "Better distance: 6, list[27] = 86138, list[91] = 86132\n",
      "Iteraciones: 4851 \n",
      "C finish array_lenght 1000\n",
      "Better distance: 1, list[215] = 190118, list[554] = 190117\n",
      "Iteraciones: 498501 \n"
     ]
    }
   ],
   "source": [
    "better, iteraciones = minimumDistanceList2(Lista_1d)\n",
    "print(\"A finish array_lenght \"+ str(len(Lista_1d)))\n",
    "print(\"Better distance: %d, list[%d] = %d, list[%d] = %d\" %(better[2],better[0],Lista_1d[better[0]],better[1],Lista_1d[better[1]])  )\n",
    "print(\"Iteraciones: %d \" %iteraciones)\n",
    "better, iteraciones = minimumDistanceList2(Lista_1db)\n",
    "print(\"B finish array_lenght \"+ str(len(Lista_1db)))\n",
    "print(\"Better distance: %d, list[%d] = %d, list[%d] = %d\" %(better[2],better[0],Lista_1db[better[0]],better[1],Lista_1db[better[1]])  )\n",
    "print(\"Iteraciones: %d \" %iteraciones)\n",
    "better, iteraciones = minimumDistanceList2(Lista_1dc)\n",
    "print(\"C finish array_lenght \"+ str(len(Lista_1dc)))\n",
    "print(\"Better distance: %d, list[%d] = %d, list[%d] = %d\" %(better[2],better[0],Lista_1dc[better[0]],better[1],Lista_1dc[better[1]])  )\n",
    "print(\"Iteraciones: %d \" %iteraciones)"
   ]
  },
  {
   "cell_type": "code",
   "execution_count": 7,
   "metadata": {},
   "outputs": [],
   "source": [
    "import math\n",
    "def calcularDistanciaPuntos(p_1, p_2):\n",
    "    return math.sqrt((p_1[0] - p_2[0])*(p_1[0] - p_2[0] ) + (p_1[1] - p_2[1])*(p_1[1] - p_2[1]))"
   ]
  },
  {
   "cell_type": "code",
   "execution_count": 8,
   "metadata": {},
   "outputs": [],
   "source": [
    "#calcularDistanciaPuntos((1,1),(2,2))"
   ]
  },
  {
   "cell_type": "code",
   "execution_count": 19,
   "metadata": {},
   "outputs": [],
   "source": [
    "# Método que recive una lista, el resto de parametros no son necesarios\n",
    "def minimumDistanceList2_2D(p_2d_list, i_pos = 0, better = 0, iteraciones = 0):\n",
    "    if better == 0: better = ((-1,-1),(-1,-1),9999999999)\n",
    "    if i_pos == len(p_2d_list) : return better, iteraciones\n",
    "    # Recorremos la lista desde el índice dado hasta el penúltimo elemento\n",
    "    for i in range(i_pos+1,len(p_2d_list)-1):\n",
    "        iteraciones +=1\n",
    "        # Compramos con el actual mejor resultado\n",
    "        if (calcularDistanciaPuntos(p_2d_list[i_pos],p_2d_list[i]) < better[2]):\n",
    "            # Asignación del mejor valor\n",
    "            better = (i_pos,i,calcularDistanciaPuntos(p_2d_list[i_pos],p_2d_list[i]))\n",
    "    # Llamamos a la función con el siguiente índice\n",
    "    better,iteraciones = minimumDistanceList2_2D(p_2d_list,i_pos+1,better,iteraciones)\n",
    "    return better,iteraciones"
   ]
  },
  {
   "cell_type": "code",
   "execution_count": 20,
   "metadata": {},
   "outputs": [],
   "source": [
    "Lista_2da = [(random.randrange(1,10000),random.randrange(1,10000)) for x in range (10)]\n",
    "Lista_2d = [(random.randrange(1,100000),random.randrange(1,100000)) for x in range (100)]\n",
    "Lista_2dc = [(random.randrange(1,1000000),random.randrange(1,1000000)) for x in range (1000)]"
   ]
  },
  {
   "cell_type": "code",
   "execution_count": 21,
   "metadata": {},
   "outputs": [
    {
     "name": "stdout",
     "output_type": "stream",
     "text": [
      "A finish array_lenght 100\n",
      "Better distance: 406, list[35] = (66480,76376), list[72] = (66831,76171)\n",
      "Iteraciones: 4851 \n"
     ]
    }
   ],
   "source": [
    "better, iteraciones = minimumDistanceList2_2D(Lista_2d)\n",
    "#print(Lista_2d)\n",
    "print(\"A finish array_lenght \"+ str(len(Lista_2d)))\n",
    "print(\"Better distance: %d, list[%d] = (%d,%d), list[%d] = (%d,%d)\" %(better[2],better[0],Lista_2d[better[0]][0],Lista_2d[better[0]][1],better[1],Lista_2d[better[1]][0],Lista_2d[better[1]][1]))\n",
    "print(\"Iteraciones: %d \" %iteraciones)\n"
   ]
  },
  {
   "cell_type": "markdown",
   "metadata": {},
   "source": [
    "La complejidad final del algorimo de búsqueda de los dos puntos más cercanos para una lista NO ORDENADA de elementos es:\n",
    "\n",
    "\\begin{equation}\n",
    "    \\sum_{i=1}^{n-2} n*c + d\n",
    "\\end{equation}\n",
    "Siendo <b>n</b> el tamaño del array de entrada y <b>c</b> las operaciones constantes dentro del bucle del método y <b>d</b> las operaciones fuera del bucle\n",
    "\n",
    "P.E: para tamaño de lista 7 siempre se realizan 15 iteraciones = 1+2+3+4+5=15\n",
    "\n",
    "`\\sum_{i=1}^{N} N`"
   ]
  }
 ],
 "metadata": {
  "kernelspec": {
   "display_name": "Python 3",
   "language": "python",
   "name": "python3"
  },
  "language_info": {
   "codemirror_mode": {
    "name": "ipython",
    "version": 3
   },
   "file_extension": ".py",
   "mimetype": "text/x-python",
   "name": "python",
   "nbconvert_exporter": "python",
   "pygments_lexer": "ipython3",
   "version": "3.7.2"
  }
 },
 "nbformat": 4,
 "nbformat_minor": 2
}
