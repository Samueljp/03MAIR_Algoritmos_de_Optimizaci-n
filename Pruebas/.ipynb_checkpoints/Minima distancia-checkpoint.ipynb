{
 "cells": [
  {
   "cell_type": "markdown",
   "metadata": {},
   "source": [
    "### Práctica individual de obtener menor distancias\n",
    "Se realizarán rutinas para obtener la minima distancia entre los puntos de una lista"
   ]
  },
  {
   "cell_type": "code",
   "execution_count": 1,
   "metadata": {},
   "outputs": [],
   "source": [
    "import random\n",
    "Lista_1d = [random.randrange(1,10000) for x in range (100)]"
   ]
  },
  {
   "cell_type": "markdown",
   "metadata": {},
   "source": [
    "#### Método por fuerza bruta"
   ]
  },
  {
   "cell_type": "code",
   "execution_count": null,
   "metadata": {},
   "outputs": [],
   "source": [
    "#Lista_1d\n",
    "\n",
    "# Función para minima distancia en listas con FUERZA BRUTA\n",
    "# Complejidad O(n^2)\n",
    "def minimunDistanceList1(p_list):\n",
    "    # Variable de salida inicializada con valores nulos\n",
    "    better = (-1,-1,9999)\n",
    "    # Bucle para recorrer desde el primer al penultimo elemento\n",
    "    for i in range(len(p_list)-1):\n",
    "        # Bucle para recorrer desde el segundo hasta el último elemento\n",
    "        for j in range(1,len(p_list)):\n",
    "            \n",
    "            # Condición de continuar si comparo un elemento consigo mismo\n",
    "            if i == j: continue\n",
    "            \n",
    "            # Condición para mejorar el valor guardado\n",
    "            if abs(p_list[i]-p_list[j]) < better[2]:\n",
    "                # Salida de valor mejorado\n",
    "                print(\"xPos: %d , yPos: %d , value2: %d , value2: %d , abs(value1-value2): %d\" \n",
    "                      % (i,j,p_list[i],p_list[j],abs(p_list[i]-p_list[j])))\n",
    "                # Asignación del mejor valor\n",
    "                better = (i,j,abs(p_list[i]-p_list[j]))\n",
    "         # Fin de segundo bucle\n",
    "    # Fin de primer bucle\n",
    "    return better\n",
    "        "
   ]
  },
  {
   "cell_type": "code",
   "execution_count": null,
   "metadata": {},
   "outputs": [],
   "source": [
    "minimunDistanceList1(Lista_1d)"
   ]
  },
  {
   "cell_type": "markdown",
   "metadata": {},
   "source": [
    "###### Conclusión:\n",
    "La complejidad del algoritmo es o(n^2)"
   ]
  },
  {
   "cell_type": "code",
   "execution_count": 30,
   "metadata": {},
   "outputs": [],
   "source": [
    "def minimumDistanceList2(p_list, i_pos, better, iteraciones):\n",
    "    if i_pos == len(p_list) : return better, iteraciones\n",
    "    # Recorremos la lista desde el índice dado hasta el penúltimo elemento\n",
    "    for i in range(i_pos+1,len(p_list)-1):\n",
    "        iteraciones +=1\n",
    "        # Compramos con el actual mejor resultado\n",
    "        if (abs(p_list[i_pos]-p_list[i]) < better[2]):\n",
    "            print(\"xPos: %d , yPos: %d , value2: %d , value2: %d , abs(value1-value2): %d\" \n",
    "                      % (i_pos,i,p_list[i_pos],p_list[i],abs(p_list[i_pos]-p_list[i])))\n",
    "                # Asignación del mejor valor\n",
    "            better = (i_pos,i,abs(p_list[i_pos]-p_list[i]))\n",
    "    better,iteraciones = minimumDistanceList2(p_list,i_pos+1,better,iteraciones)\n",
    "    return better,iteraciones"
   ]
  },
  {
   "cell_type": "code",
   "execution_count": 31,
   "metadata": {},
   "outputs": [
    {
     "name": "stdout",
     "output_type": "stream",
     "text": [
      "100\n",
      "xPos: 0 , yPos: 1 , value2: 5412 , value2: 4554 , abs(value1-value2): 858\n",
      "xPos: 0 , yPos: 9 , value2: 5412 , value2: 4977 , abs(value1-value2): 435\n",
      "xPos: 0 , yPos: 14 , value2: 5412 , value2: 5489 , abs(value1-value2): 77\n",
      "xPos: 1 , yPos: 67 , value2: 4554 , value2: 4575 , abs(value1-value2): 21\n",
      "xPos: 4 , yPos: 38 , value2: 7937 , value2: 7947 , abs(value1-value2): 10\n",
      "xPos: 4 , yPos: 68 , value2: 7937 , value2: 7933 , abs(value1-value2): 4\n",
      "xPos: 13 , yPos: 87 , value2: 47 , value2: 49 , abs(value1-value2): 2\n",
      "Better: (13, 87, 2)\n",
      "Iteraciones: 4851 \n"
     ]
    }
   ],
   "source": [
    "print(len(Lista_1d))\n",
    "witeraciones= 0\n",
    "better, iteraciones = minimumDistanceList2(Lista_1d,0,(-1,-1,99999),witeraciones)\n",
    "print(\"Better: \" + str(better))\n",
    "print(\"Iteraciones: %d \" %iteraciones)\n"
   ]
  },
  {
   "cell_type": "code",
   "execution_count": null,
   "metadata": {},
   "outputs": [],
   "source": []
  }
 ],
 "metadata": {
  "kernelspec": {
   "display_name": "Python 3",
   "language": "python",
   "name": "python3"
  },
  "language_info": {
   "codemirror_mode": {
    "name": "ipython",
    "version": 3
   },
   "file_extension": ".py",
   "mimetype": "text/x-python",
   "name": "python",
   "nbconvert_exporter": "python",
   "pygments_lexer": "ipython3",
   "version": "3.7.2"
  }
 },
 "nbformat": 4,
 "nbformat_minor": 2
}
