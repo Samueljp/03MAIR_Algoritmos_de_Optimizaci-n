{
  "nbformat": 4,
  "nbformat_minor": 0,
  "metadata": {
    "colab": {
      "name": "Samuel_Jimenez_Palomino_Seminario.ipynb",
      "version": "0.3.2",
      "provenance": [],
      "collapsed_sections": [],
      "include_colab_link": true
    },
    "kernelspec": {
      "display_name": "Python 3",
      "language": "python",
      "name": "python3"
    }
  },
  "cells": [
    {
      "cell_type": "markdown",
      "metadata": {
        "id": "view-in-github",
        "colab_type": "text"
      },
      "source": [
        "<a href=\"https://colab.research.google.com/github/Samueljp/03MAIR_Algoritmos_de_Optimizaci-n/blob/develop/Samuel_Jimenez_Palomino_Seminario.ipynb\" target=\"_parent\"><img src=\"https://colab.research.google.com/assets/colab-badge.svg\" alt=\"Open In Colab\"/></a>"
      ]
    },
    {
      "metadata": {
        "colab_type": "text",
        "id": "hVbXYX-RfPWh"
      },
      "cell_type": "markdown",
      "source": [
        "# Algoritmos de optimización - Seminario\n",
        "\n",
        "Nombre y Apellidos: Samuel Jiménez Palomino\n",
        "\n",
        "Url: \n",
        "\n",
        "Problema: Organizar los horarios de partidos de La Liga \n",
        "\n",
        "Descripción del problema:\n",
        "\n",
        "• Desde la La Liga de fútbol profesional se pretende organizar los horarios de los partidos\n",
        "de liga de de cada jornada. Se conocen algunos datos que nos deben llevar a diseñar un\n",
        "algoritmo que realice la asignación de los partidos a los horarios que maximice la\n",
        "audiencia.\n",
        "\n",
        "• Los horarios disponibles se conocen a priori y son los siguientes:\n",
        " - Viernes 20\n",
        " - Sábado 12, 16, 18, 20\n",
        " - Domingo 12, 16, 18, 20\n",
        " - Lunes 20\n",
        "\n",
        "• En primer lugar se clasifican los equipos en tres categorías según el numero de\n",
        "seguidores que tienen relación directa con la audiencia. Hay 4 equipos en la\n",
        "categoría A, 10 equipos de categoría B y 6 equipos de categoría C.\n",
        "\n",
        "• Se conoce estadísticamente la audiencia que genera cada partido según los equipos\n",
        "que se enfrentan y en horario de sábado a las 20h (el mejor en todos los casos)\n",
        "<table>\n",
        "    <tr> <td> </td> <td> Categoria A </td> <td> Categoria B </td> <td> Categoria C </td> </tr>\n",
        "    <tr> <td> Categoria A </td> <td> 2 Millones </td> <td> 1.3 Millones </td> <td> 1 Millones </td> </tr>\n",
        "    <tr> <td> Categoria B </td> <td> </td> <td> 0.9 Millones </td> <td> 0.75 Millones </td> </tr>\n",
        "    <tr> <td> Categoria C </td> <td> </td> <td> </td> <td> 0.47 Millones </td> </tr>\n",
        "    <tr> </tr>\n",
        "</table>\n",
        "\n",
        "• Si el horario del partido no se realiza a las 20 horas del sábado se sabe que se reduce\n",
        "según los coeficientes de la siguiente tabla:\n",
        "<table> \n",
        "    <tr> <td>     </td> <td> Viernes </td> <td> Sábado </td> <td> Domingo </td> <td> Lunes </td> </tr>\n",
        "    <tr> <td> 12h </td> <td> -   </td> <td> 0.55 </td> <td> 0.45 </td> <td> - </td> </tr>\n",
        "    <tr> <td> 16h </td> <td> -   </td> <td> 0.7  </td> <td> 0.75 </td> <td> - </td> </tr>\n",
        "    <tr> <td> 18h </td> <td> -   </td> <td> 0.8  </td> <td> 0.85 </td> <td> - </td> </tr>\n",
        "    <tr> <td> 20h </td> <td> 0.4 </td> <td> 1    </td> <td> 1    </td> <td> 0.4 </td> </tr>\n",
        "</table>\n",
        "\n",
        "• Debemos asignar obligatoriamente siempre un partido el viernes y un partido el lunes\n",
        "\n",
        "• Es posible la coincidencia de horarios pero en este caso la audiencia se verá afectada(no\n",
        "se acumula) y se repartirá según los siguientes criterios:\n",
        "- se tomará la mejor audiencia y se repartirá según la siguiente ponderación:\n",
        "    - A = 4 puntos\n",
        "    - B = 2 puntos\n",
        "    - C = 1 punto\n",
        "    \n",
        "Si hay una coincidencia de horario para dos partidos por ejemplo :\n",
        "AB y BC\n",
        "\n",
        "Total puntos: 4(A)+2(B) + 2(B)+1(C) =9\n",
        "\n",
        "La audiencia máxima para ese horario será la de AB, 1.3 Millones\n",
        "\n",
        "La audiencia (1.3 Millones) se reparte en :\n",
        "\n",
        "Para AB: 6/9 · 1.3Millones = 0.87Millones\n",
        "\n",
        "Para BC: 3/9 · 1.3Millones = 0.43Millones\n",
        "\n",
        "• La función objetivo asociada a una jornada de ejemplo se calcularía de la siguiente\n",
        "manera:\n",
        "\n",
        "![cosa.PNG](attachment:cosa.PNG)"
      ]
    },
    {
      "metadata": {
        "colab_type": "code",
        "id": "AiskKkzZfy4e",
        "colab": {}
      },
      "cell_type": "code",
      "source": [
        ""
      ],
      "execution_count": 0,
      "outputs": []
    },
    {
      "metadata": {
        "colab_type": "text",
        "id": "3_-exlrTgLd-"
      },
      "cell_type": "markdown",
      "source": [
        "(*)¿Cuantas posibilidades hay sin tener en cuenta las restricciones?<br>\n",
        "\n",
        "\n",
        "\n",
        "¿Cuantas posibilidades hay teniendo en cuenta todas las restricciones.\n",
        "\n",
        "\n"
      ]
    },
    {
      "metadata": {
        "colab_type": "text",
        "id": "WfCUqJyKhPcw"
      },
      "cell_type": "markdown",
      "source": [
        "Respuesta:\n",
        "\n",
        "Con restricción de un partido por en cada horario: \n",
        "- Dado que hay 10 partidos y 10 horarios lo más lógico sería responder que eixten 10x9! posibilidades, por lo tanto N x (N-1)!. Esta solución ocuparía todos los horarios, por lo cual el lunes y el viernes. Con las condiciones del problema \n",
        "\n",
        "Sin restricción de horarios:\n",
        "- Si tenemos en cuenta que se podrían acumular varios partidos en el mismo horario siempre que el viernes y el lunes tengan un partido, por ejemplo, 9 partidos el viernes y 1 el lunes, 8 partidos el viernes, 1 el lunes y cualquier otro horario el restante y así continuar... \n",
        "En este caso tendríamos(Siendo N el número de partidos y r el número de partidos agrupados):\n",
        "$\\sum_{r=1}^{N-1} \\frac{N!}{ r! · (N-r)!} (\\frac{(N-1)! · ((N-1)-r)!}{ r! · ((N-1)-r)!} +(N-r)!)$\n",
        "\n",
        "Calculado basándome en la función de itertools de Python más un bucle que he realizado\n",
        "\n",
        "https://docs.python.org/3/library/itertools.html#itertools.combinations\n",
        "\n",
        "\n",
        "\n",
        " "
      ]
    },
    {
      "metadata": {
        "id": "O35mNaCawcIC",
        "colab_type": "code",
        "colab": {
          "base_uri": "https://localhost:8080/",
          "height": 384
        },
        "outputId": "c3c6b042-c09b-468d-d958-3b3a7e62b88f"
      },
      "cell_type": "code",
      "source": [
        "import math\n",
        "\n",
        "N = 10\n",
        "count = 0\n",
        "\n",
        "# Posibles agrupamientos\n",
        "for r in range(N-1):\n",
        "  print(r)\n",
        "  aux = 0\n",
        "  ## Posibles casos de agrupación del partido del viernes\n",
        "  for x in it.combinations(range(1,N),(N-r)):\n",
        "    x = N-1\n",
        "    ## Posibles casos de agrupación del partido del lunes con los restantes del viernes\n",
        "    for y in it.combinations(range(1,x),(x-r)):\n",
        "      # Distintas colacaciones en los horarios resultantes\n",
        "      aux += math.factorial(x-r)\n",
        "  # Combinativa con posibles partidos entre los horarios restantes\n",
        "  # Distintas colocaciones en los horarios resultantes\n",
        "  aux += math.factorial(N-r)\n",
        "  count += aux\n",
        "  \n",
        "\n",
        "print(\"count: \",count)\n",
        "\n",
        "[x for x in it.combinations(range(5), 3)]"
      ],
      "execution_count": 53,
      "outputs": [
        {
          "output_type": "stream",
          "text": [
            "0\n",
            "1\n",
            "2\n",
            "3\n",
            "4\n",
            "5\n",
            "6\n",
            "7\n",
            "8\n",
            "count:  5990360\n"
          ],
          "name": "stdout"
        },
        {
          "output_type": "execute_result",
          "data": {
            "text/plain": [
              "[(0, 1, 2),\n",
              " (0, 1, 3),\n",
              " (0, 1, 4),\n",
              " (0, 2, 3),\n",
              " (0, 2, 4),\n",
              " (0, 3, 4),\n",
              " (1, 2, 3),\n",
              " (1, 2, 4),\n",
              " (1, 3, 4),\n",
              " (2, 3, 4)]"
            ]
          },
          "metadata": {
            "tags": []
          },
          "execution_count": 53
        }
      ]
    },
    {
      "metadata": {
        "colab_type": "code",
        "id": "iq6Fe32MgpDX",
        "colab": {}
      },
      "cell_type": "code",
      "source": [
        ""
      ],
      "execution_count": 0,
      "outputs": []
    },
    {
      "metadata": {
        "colab_type": "text",
        "id": "dzynfVJahHoY"
      },
      "cell_type": "markdown",
      "source": [
        "Modelo para el espacio de soluciones<br>\n",
        "(*) ¿Cual es la estructura de datos que mejor se adapta al problema? Argumentalo.(Es posible que hayas elegido una al principio y veas la necesidad de cambiar, arguentalo)\n"
      ]
    },
    {
      "metadata": {
        "colab_type": "text",
        "id": "xFIJrOwKi2Ti"
      },
      "cell_type": "markdown",
      "source": [
        "Respuesta:\n",
        "\n",
        "Una estrucura adecuada para generar y guardar la solución sería una lista de horarios con los partidos de éste horario enlazados.\n",
        "\n",
        "Cada elemento de la lista tendrá un par de valores:\n",
        "- El primero será el identificador del horario\n",
        "- El segundo serán los partidos que tiene este horario, por lo que este elemento será una lista de partidos\n",
        "\n",
        "Esta estructura ayuda a identificar rápidamente los horarios disponibles y ver que partido o partidos tiene asignados.\n",
        "\n",
        "Como estructuras auxiliares: \n",
        " - Lista de equipos cada equipo consta de un identificador o nombre y una categoría para calcular su audiencia.\n",
        " - Lista de horarios con el coeficiente de cada horario\n",
        " - Lista de audiencias de enfrentamiento entre equipos por categoría de equipos"
      ]
    },
    {
      "metadata": {
        "colab_type": "code",
        "id": "38c-7-ejhJmA",
        "colab": {}
      },
      "cell_type": "code",
      "source": [
        ""
      ],
      "execution_count": 0,
      "outputs": []
    },
    {
      "metadata": {
        "colab_type": "text",
        "id": "7Z9U2W7bi-XS"
      },
      "cell_type": "markdown",
      "source": [
        "Según el modelo para el espacio de soluciones<br>\n",
        "(*)¿Cual es la función objetivo?\n",
        "\n",
        "(*)¿Es un problema de maximización o minimización?"
      ]
    },
    {
      "metadata": {
        "colab_type": "text",
        "id": "hBalWLM7j1_d"
      },
      "cell_type": "markdown",
      "source": [
        "Respuesta:\n",
        "\n",
        "La función objetivo es por ejemplo la función en la cual ya asignados los partidos a los horarios, calcula la audiencia que tendrá la jornada sumando la audiencia de cada uno de los partidos.\n",
        "\n",
        "Es un problema de maximización, ya que se quiere la mayor audiencia por jornada."
      ]
    },
    {
      "metadata": {
        "colab_type": "code",
        "id": "pDA-rg3Gj5Lz",
        "colab": {}
      },
      "cell_type": "code",
      "source": [
        "# Calcula la audiencia de una jornada\n",
        "# JORNADA: Estructura con la planificación de la jornada\n",
        "# COEF_JORNADA: Coeficientes multiplicadores dependiendo del horario (día y hora)\n",
        "# AUDIENCIA_CATEGORIA: Audiencia que generan los partidos debido a la categoría de los equipos\n",
        "# PUNTOS_CATEGORIA: Puntos de reparto de audiencia según categoría de equipos\n",
        "# con_resumen: Parámetro opcional que implica la devolución de un resumen de la puntuación calculada\n",
        "# RETURN: Number -> Audiencia de JORNADA\n",
        "def calculaAudienciaJornada(JORNADA, COEF_HORARIOS, AUDIENCIA_CATEGORIA, PUNTOS_CATEGORIA, con_resumen=False):\n",
        "    \n",
        "    audiencia_total = 0\n",
        "    resumen_jornada = []\n",
        "    # Recorrido de los partidos de la jornada por los horarios\n",
        "    for horario, partidos in JORNADA:\n",
        "        \n",
        "        # Obtención de máxima audiencia para horario\n",
        "        coef_max_audiencia = 0        \n",
        "        for partido in partidos:\n",
        "            \n",
        "            #print(\"Equipo1: %s, Equipo2: %s \" % (partido[0][1],partido[1][1]))\n",
        "            coef_max_audiencia = PUNTOS_CATEGORIA[partido[0][1]] + PUNTOS_CATEGORIA[partido[1][1]]\n",
        "            \n",
        "        # Calculo de audiencia por partido\n",
        "        for partido in partidos:\n",
        "        \n",
        "            audiencia = AUDIENCIA_CATEGORIA[ str(partido[0][1] + partido[1][1]) ]\n",
        "            coef_horario = COEF_HORARIOS[horario]\n",
        "            coef_audiencia = PUNTOS_CATEGORIA[partido[0][1]] + PUNTOS_CATEGORIA[partido[1][1]]\n",
        "            # Audiencia de equipos * coef_horario * ponderación compartición\n",
        "            audiencia_partido = audiencia * coef_horario *(coef_audiencia / coef_max_audiencia)\n",
        "            audiencia_total += audiencia_partido\n",
        "            \n",
        "            # Generación de texto con resumen de los cálculos\n",
        "            if con_resumen:\n",
        "                resumen = {\"audiencia\": audiencia, \n",
        "                           \"coef_horario\": coef_horario, \n",
        "                           \"coef_audiencia(%)\": str(coef_audiencia) +\"/\" + str(coef_max_audiencia),\n",
        "                           \"audiencia_partido\": audiencia_partido\n",
        "                          }\n",
        "                resumen_jornada.append({\"horario\":horario,\n",
        "                                        \"partido\":partido,\n",
        "                                        \"resumen\":resumen})\n",
        "            # Fin de generación de texto con resumen\n",
        "           \n",
        "    if con_resumen: return (audiencia_total,resumen_jornada)    \n",
        "    return audiencia_total"
      ],
      "execution_count": 0,
      "outputs": []
    },
    {
      "metadata": {
        "colab_type": "text",
        "id": "rlnTYgY1j6I2"
      },
      "cell_type": "markdown",
      "source": [
        "Diseña un algoritmo para resolver el problema por fuerza bruta"
      ]
    },
    {
      "metadata": {
        "colab_type": "text",
        "id": "70rDgxYXkC8r"
      },
      "cell_type": "markdown",
      "source": [
        "Respuesta"
      ]
    },
    {
      "metadata": {
        "colab_type": "code",
        "id": "CJb5sQ0qkENy",
        "colab": {}
      },
      "cell_type": "code",
      "source": [
        "# Importación de librería para obtener todas las posibles combinaciones\n",
        "import itertools as it\n",
        "\n",
        "# Función que calcula el mejor horario por fuerza bruta\n",
        "# Partidos: Jornada con los enfrentamientos entre equipos (Partidos)\n",
        "# COEF_JORNADA: Coeficientes multiplicadores dependiendo del horario (día y hora)\n",
        "# AUDIENCIA_CATEGORIA: Audiencia que generan los partidos debido a la categoría de los equipos\n",
        "# PUNTOS_CATEGORIA: Puntos de reparto de audiencia según categoría de equipos\n",
        "# Return: La mejor repartición de los partidos a través de la jornada\n",
        "def calcularJornadaFB(PARTIDOS,COEF_HORARIOS,AUDIENCIA_CATEGORIA,PUNTOS_CATEGORIA):\n",
        "    \n",
        "    # Lista de horarios\n",
        "    lstHorarios = [ x for x in COEF_HORARIOS]\n",
        "    \n",
        "    # Posibles combinaciones N!\n",
        "    combinaciones = it.permutations(PARTIDOS['Equipos'],len(PARTIDOS['Equipos']))\n",
        "    \n",
        "    i = 0\n",
        "    mejor_jornada = []\n",
        "    mejor_puntuacion = 0\n",
        "    # Bucle que recorre los posibles casos\n",
        "    for c in combinaciones:\n",
        "        i+=1\n",
        "        \n",
        "        # Generación de jornada en función de permutación\n",
        "        jornada = []\n",
        "        horario = 0\n",
        "        \n",
        "        # Bucle para asignación de los partidos a un horario\n",
        "        for partido in c:\n",
        "            \n",
        "            jornada.append((lstHorarios[horario],[partido]))\n",
        "            horario +=1\n",
        "        \n",
        "        # Calculo de puntuación de Jornada\n",
        "        puntuacion = calculaAudienciaJornada(jornada,COEF_HORARIOS,AUDIENCIA_CATEGORIA,PUNTOS_CATEGORIA)\n",
        "        \n",
        "        # Permanencia de mejor Jornada\n",
        "        if puntuacion > mejor_puntuacion:\n",
        "            mejor_jornada = jornada\n",
        "            mejor_puntuacion = puntuacion\n",
        "        \n",
        "#     print(\"Combinaciones: %d\" %i)\n",
        "    return (mejor_jornada,mejor_puntuacion)"
      ],
      "execution_count": 0,
      "outputs": []
    },
    {
      "metadata": {
        "colab_type": "text",
        "id": "tgrnsC2nkFa8"
      },
      "cell_type": "markdown",
      "source": [
        "Calcula la complejidad del algoritmo por fuerza bruta"
      ]
    },
    {
      "metadata": {
        "colab_type": "text",
        "id": "9eUd3xwckP68"
      },
      "cell_type": "markdown",
      "source": [
        "Respuesta:\n",
        "La complejidad de éste algoritmo por fuerza bruta es O(N!) siendo N el número de partidos que se disputan en la jornada y teniendo en cuenta que existen N horarios y cada partido se asocia a un único horario y cado horario tiene un único partido.\n",
        "\n",
        "Para este problema no tiene sentido hacer coincidir varios partidos en un horario puesto que se pierde audiencia"
      ]
    },
    {
      "metadata": {
        "colab_type": "code",
        "id": "rvZWwL-ckRST",
        "colab": {}
      },
      "cell_type": "code",
      "source": [
        ""
      ],
      "execution_count": 0,
      "outputs": []
    },
    {
      "metadata": {
        "colab_type": "text",
        "id": "txbrmLmskReM"
      },
      "cell_type": "markdown",
      "source": [
        "(*)Diseña un algoritmo que mejore la complejidad del algortimo por fuerza bruta. Argumenta porque crees que mejora el algoritmo por fuerza bruta"
      ]
    },
    {
      "metadata": {
        "colab_type": "text",
        "id": "hLrVwt5QkZPD"
      },
      "cell_type": "markdown",
      "source": [
        "Respuesta:\n",
        "\n",
        "Es mejor porque utiliza la técnica voráz y basándose en reservar las mejores audiencias de los partidos para los mayores coeficientes de horarios conseguimos maximizar la audiencia total.\n",
        "Esta base parte de asociar los equipos con mayor audiencia a los horarios con mejor aceptación.\n",
        "Funciona correctamente ya que la acumulación de varios partidos en un mismo hoarario siempre provoca peores resultados debido a la repartición con la formula de la audiencia."
      ]
    },
    {
      "metadata": {
        "colab_type": "code",
        "id": "m1eyM21Vkabg",
        "colab": {}
      },
      "cell_type": "code",
      "source": [
        "# Función que calcula el mejor horario por fuerza bruta\n",
        "# Partidos: Jornada con los enfrentamientos entre equipos (Partidos)\n",
        "# COEF_JORNADA: Coeficientes multiplicadores dependiendo del horario (día y hora)\n",
        "# AUDIENCIA_CATEGORIA: Audiencia que generan los partidos debido a la categoría de los equipos\n",
        "# PUNTOS_CATEGORIA: Puntos de reparto de audiencia según categoría de equipos\n",
        "# Return: La mejor repartición de los partidos a través de la jornada\n",
        "def calcularJornada(PARTIDOS,COEF_HORARIOS,AUDIENCIA_CATEGORIA,PUNTOS_CATEGORIA):\n",
        "    \n",
        "    # Lista de horarios\n",
        "    lstHorarios = [ (x,jornadaM[x]) for x in jornadaM]\n",
        "    \n",
        "    # Ordenamos la lista de horarios\n",
        "    lstHorarios.sort(key= lambda x: x[1], reverse=True)\n",
        "    \n",
        "    PARTIDOS[\"Equipos\"].sort(key = lambda x: audienciaM[(x[0][1])+(x[1][1])], reverse=True)\n",
        "    \n",
        "    jornada=[]\n",
        "    # Bucle que recorre los posibles casos\n",
        "    for horario in range(len(lstHorarios)):\n",
        "        jornada.append((lstHorarios[horario][0],[PARTIDOS[\"Equipos\"][horario]]))\n",
        "        \n",
        "    puntuacion = calculaAudienciaJornada(jornada,COEF_HORARIOS,AUDIENCIA_CATEGORIA,PUNTOS_CATEGORIA)\n",
        "        \n",
        "        \n",
        "    return (jornada,puntuacion)"
      ],
      "execution_count": 0,
      "outputs": []
    },
    {
      "metadata": {
        "colab_type": "text",
        "id": "eGDB4K6uk1iN"
      },
      "cell_type": "markdown",
      "source": [
        "(*)Calcula la complejidad del algoritmo "
      ]
    },
    {
      "metadata": {
        "colab_type": "text",
        "id": "NhpTh_BPk1ms"
      },
      "cell_type": "markdown",
      "source": [
        "Respuesta:\n",
        "\n",
        "La complegidad de este algoritmo es: O(N * log(N)) ya que tiene un algoritmo de ordenación que tiene esta complegidad. El algoritmo que asocia los partidos a los horarios es O(N)"
      ]
    },
    {
      "metadata": {
        "colab_type": "code",
        "id": "nREzhkStlCq8",
        "colab": {}
      },
      "cell_type": "code",
      "source": [
        ""
      ],
      "execution_count": 0,
      "outputs": []
    },
    {
      "metadata": {
        "colab_type": "text",
        "id": "3M6QjTsSkmYe"
      },
      "cell_type": "markdown",
      "source": [
        "Según el problema (y tenga sentido), diseña un juego de datos de entrada aleatorios"
      ]
    },
    {
      "metadata": {
        "colab_type": "text",
        "id": "Jc3_OlyNkvjZ"
      },
      "cell_type": "markdown",
      "source": [
        "Respuesta"
      ]
    },
    {
      "metadata": {
        "colab_type": "code",
        "id": "sJ-N2etjkyWc",
        "colab": {},
        "outputId": "cc88d0f4-78eb-4b4f-9a74-48b92bdefa9c"
      },
      "cell_type": "code",
      "source": [
        "# Equipos\n",
        "equiposM = []\n",
        "for i in range (1,21):\n",
        "    categoria = \"\"\n",
        "    if i < 5 :  categoria = \"A\"\n",
        "    elif i < 15 :  categoria = \"B\"\n",
        "    else :  categoria = \"C\"\n",
        "    equipoM = ((\"Equipo-\"+str(i)),categoria)\n",
        "    equiposM.append(equipoM)\n",
        "    \n",
        "equiposM"
      ],
      "execution_count": 0,
      "outputs": [
        {
          "output_type": "execute_result",
          "data": {
            "text/plain": [
              "[('Equipo-1', 'A'),\n",
              " ('Equipo-2', 'A'),\n",
              " ('Equipo-3', 'A'),\n",
              " ('Equipo-4', 'A'),\n",
              " ('Equipo-5', 'B'),\n",
              " ('Equipo-6', 'B'),\n",
              " ('Equipo-7', 'B'),\n",
              " ('Equipo-8', 'B'),\n",
              " ('Equipo-9', 'B'),\n",
              " ('Equipo-10', 'B'),\n",
              " ('Equipo-11', 'B'),\n",
              " ('Equipo-12', 'B'),\n",
              " ('Equipo-13', 'B'),\n",
              " ('Equipo-14', 'B'),\n",
              " ('Equipo-15', 'C'),\n",
              " ('Equipo-16', 'C'),\n",
              " ('Equipo-17', 'C'),\n",
              " ('Equipo-18', 'C'),\n",
              " ('Equipo-19', 'C'),\n",
              " ('Equipo-20', 'C')]"
            ]
          },
          "metadata": {
            "tags": []
          },
          "execution_count": 4
        }
      ]
    },
    {
      "metadata": {
        "id": "MfYGgpJqfIMD",
        "colab_type": "code",
        "colab": {},
        "outputId": "53c09d22-c1ad-4049-844b-8bf6f26529c7"
      },
      "cell_type": "code",
      "source": [
        "# Jornada\n",
        "jornadaM = {\"Viernes - 20:00\" : 0.4, \n",
        "           \"Sábado - 12:00\"  : 0.55,\n",
        "           \"Sábado - 16:00\"  : 0.7,\n",
        "           \"Sábado - 18:00\"  : 0.8,\n",
        "           \"Sábado - 20:00\"  : 1,\n",
        "           \"Domingo - 12:00\" : 0.45,\n",
        "           \"Domingo - 16:00\" : 0.77,\n",
        "           \"Domingo - 18:00\" : 0.85,\n",
        "           \"Domingo - 20:00\" : 1,\n",
        "           \"Lunes - 20:00\"   : 0.4\n",
        "          }\n",
        "\n",
        "jornadaM"
      ],
      "execution_count": 0,
      "outputs": [
        {
          "output_type": "execute_result",
          "data": {
            "text/plain": [
              "{'Viernes - 20:00': 0.4,\n",
              " 'Sábado - 12:00': 0.55,\n",
              " 'Sábado - 16:00': 0.7,\n",
              " 'Sábado - 18:00': 0.8,\n",
              " 'Sábado - 20:00': 1,\n",
              " 'Domingo - 12:00': 0.45,\n",
              " 'Domingo - 16:00': 0.77,\n",
              " 'Domingo - 18:00': 0.85,\n",
              " 'Domingo - 20:00': 1,\n",
              " 'Lunes - 20:00': 0.4}"
            ]
          },
          "metadata": {
            "tags": []
          },
          "execution_count": 5
        }
      ]
    },
    {
      "metadata": {
        "id": "c6f1vWayfIML",
        "colab_type": "code",
        "colab": {},
        "outputId": "769c76b7-4a30-4a1a-9b7a-9eadc08a705c"
      },
      "cell_type": "code",
      "source": [
        "# Audiencia \n",
        "audienciaM = {\"AA\":2.000000,\n",
        "              \"AB\":1.300000,\n",
        "              \"BA\":1.300000,\n",
        "              \"AC\":1.000000,\n",
        "              \"CA\":1.000000,\n",
        "              \"BB\":0.900000,\n",
        "              \"BC\":0.750000,\n",
        "              \"CB\":0.750000,\n",
        "              \"CC\":0.470000}\n",
        "\n",
        "audienciaM"
      ],
      "execution_count": 0,
      "outputs": [
        {
          "output_type": "execute_result",
          "data": {
            "text/plain": [
              "{'AA': 2.0,\n",
              " 'AB': 1.3,\n",
              " 'BA': 1.3,\n",
              " 'AC': 1.0,\n",
              " 'CA': 1.0,\n",
              " 'BB': 0.9,\n",
              " 'BC': 0.75,\n",
              " 'CB': 0.75,\n",
              " 'CC': 0.47}"
            ]
          },
          "metadata": {
            "tags": []
          },
          "execution_count": 6
        }
      ]
    },
    {
      "metadata": {
        "id": "moiSkKAofIMZ",
        "colab_type": "code",
        "colab": {},
        "outputId": "9aa994e1-db2e-4428-f553-2aa624577fb7"
      },
      "cell_type": "code",
      "source": [
        "# Puntos de Audiencia\n",
        "audienciaP = {\"A\": 4, \"B\": 2, \"C\": 1}\n",
        "\n",
        "audienciaP"
      ],
      "execution_count": 0,
      "outputs": [
        {
          "output_type": "execute_result",
          "data": {
            "text/plain": [
              "{'A': 4, 'B': 2, 'C': 1}"
            ]
          },
          "metadata": {
            "tags": []
          },
          "execution_count": 7
        }
      ]
    },
    {
      "metadata": {
        "id": "YlzQjnGIfIMh",
        "colab_type": "code",
        "colab": {},
        "outputId": "e82785ae-1d02-4d59-e4fd-06e4636fdfce"
      },
      "cell_type": "code",
      "source": [
        "# https://es.wikipedia.org/wiki/Sistema_de_todos_contra_todos\n",
        "# from random import shuffle    \n",
        "\n",
        "# Generador de calendario Estandar\n",
        "def getCalendarioClubes(clubes): \n",
        "\n",
        "    index_clubes = 0    \n",
        "    auxT = len(clubes)\n",
        "\n",
        "    totalP = auxT//2 # total de partidos de una jornada\n",
        "    jornada = []\n",
        "    indiceInverso = auxT-2\n",
        "\n",
        "    for i in range(1,auxT):\n",
        "        equipos = []\n",
        "        list_equipos = {}\n",
        "        \n",
        "        for indiceP in range(0,totalP):\n",
        "            \n",
        "            if index_clubes > auxT-2: index_clubes = 0\n",
        "    \n",
        "            if indiceInverso < 0: indiceInverso = auxT-2\n",
        "    \n",
        "            if indiceP == 0: # seria el partido inicial de cada fecha\n",
        "                partido = [clubes[index_clubes], clubes[auxT-1]]\n",
        "#                 print(\"index_clubes: %d, auxT-1: %d\" % (index_clubes,(auxT-1)))\n",
        "                equipos.append(partido)\n",
        "            else:\n",
        "                partido = [clubes[index_clubes], clubes[indiceInverso]]\n",
        "#                 print(\"index_clubes: %d, indiceInverso: %d\" % (index_clubes,indiceInverso))\n",
        "                equipos.append(partido)\n",
        "                indiceInverso -= 1\n",
        "            index_clubes += 1\n",
        "\n",
        "        list_equipos = { 'Jornada': \"Jornada Nro.: \" + str(i),\n",
        "                        'Equipos': equipos}\n",
        "        jornada.append(list_equipos)\n",
        "\n",
        "    return jornada\n",
        "    \n",
        "calendario = getCalendarioClubes(equiposM)\n",
        "calendario"
      ],
      "execution_count": 0,
      "outputs": [
        {
          "output_type": "execute_result",
          "data": {
            "text/plain": [
              "[{'Jornada': 'Jornada Nro.: 1',\n",
              "  'Equipos': [[('Equipo-1', 'A'), ('Equipo-20', 'C')],\n",
              "   [('Equipo-2', 'A'), ('Equipo-19', 'C')],\n",
              "   [('Equipo-3', 'A'), ('Equipo-18', 'C')],\n",
              "   [('Equipo-4', 'A'), ('Equipo-17', 'C')],\n",
              "   [('Equipo-5', 'B'), ('Equipo-16', 'C')],\n",
              "   [('Equipo-6', 'B'), ('Equipo-15', 'C')],\n",
              "   [('Equipo-7', 'B'), ('Equipo-14', 'B')],\n",
              "   [('Equipo-8', 'B'), ('Equipo-13', 'B')],\n",
              "   [('Equipo-9', 'B'), ('Equipo-12', 'B')],\n",
              "   [('Equipo-10', 'B'), ('Equipo-11', 'B')]]},\n",
              " {'Jornada': 'Jornada Nro.: 2',\n",
              "  'Equipos': [[('Equipo-11', 'B'), ('Equipo-20', 'C')],\n",
              "   [('Equipo-12', 'B'), ('Equipo-10', 'B')],\n",
              "   [('Equipo-13', 'B'), ('Equipo-9', 'B')],\n",
              "   [('Equipo-14', 'B'), ('Equipo-8', 'B')],\n",
              "   [('Equipo-15', 'C'), ('Equipo-7', 'B')],\n",
              "   [('Equipo-16', 'C'), ('Equipo-6', 'B')],\n",
              "   [('Equipo-17', 'C'), ('Equipo-5', 'B')],\n",
              "   [('Equipo-18', 'C'), ('Equipo-4', 'A')],\n",
              "   [('Equipo-19', 'C'), ('Equipo-3', 'A')],\n",
              "   [('Equipo-1', 'A'), ('Equipo-2', 'A')]]},\n",
              " {'Jornada': 'Jornada Nro.: 3',\n",
              "  'Equipos': [[('Equipo-2', 'A'), ('Equipo-20', 'C')],\n",
              "   [('Equipo-3', 'A'), ('Equipo-1', 'A')],\n",
              "   [('Equipo-4', 'A'), ('Equipo-19', 'C')],\n",
              "   [('Equipo-5', 'B'), ('Equipo-18', 'C')],\n",
              "   [('Equipo-6', 'B'), ('Equipo-17', 'C')],\n",
              "   [('Equipo-7', 'B'), ('Equipo-16', 'C')],\n",
              "   [('Equipo-8', 'B'), ('Equipo-15', 'C')],\n",
              "   [('Equipo-9', 'B'), ('Equipo-14', 'B')],\n",
              "   [('Equipo-10', 'B'), ('Equipo-13', 'B')],\n",
              "   [('Equipo-11', 'B'), ('Equipo-12', 'B')]]},\n",
              " {'Jornada': 'Jornada Nro.: 4',\n",
              "  'Equipos': [[('Equipo-12', 'B'), ('Equipo-20', 'C')],\n",
              "   [('Equipo-13', 'B'), ('Equipo-11', 'B')],\n",
              "   [('Equipo-14', 'B'), ('Equipo-10', 'B')],\n",
              "   [('Equipo-15', 'C'), ('Equipo-9', 'B')],\n",
              "   [('Equipo-16', 'C'), ('Equipo-8', 'B')],\n",
              "   [('Equipo-17', 'C'), ('Equipo-7', 'B')],\n",
              "   [('Equipo-18', 'C'), ('Equipo-6', 'B')],\n",
              "   [('Equipo-19', 'C'), ('Equipo-5', 'B')],\n",
              "   [('Equipo-1', 'A'), ('Equipo-4', 'A')],\n",
              "   [('Equipo-2', 'A'), ('Equipo-3', 'A')]]},\n",
              " {'Jornada': 'Jornada Nro.: 5',\n",
              "  'Equipos': [[('Equipo-3', 'A'), ('Equipo-20', 'C')],\n",
              "   [('Equipo-4', 'A'), ('Equipo-2', 'A')],\n",
              "   [('Equipo-5', 'B'), ('Equipo-1', 'A')],\n",
              "   [('Equipo-6', 'B'), ('Equipo-19', 'C')],\n",
              "   [('Equipo-7', 'B'), ('Equipo-18', 'C')],\n",
              "   [('Equipo-8', 'B'), ('Equipo-17', 'C')],\n",
              "   [('Equipo-9', 'B'), ('Equipo-16', 'C')],\n",
              "   [('Equipo-10', 'B'), ('Equipo-15', 'C')],\n",
              "   [('Equipo-11', 'B'), ('Equipo-14', 'B')],\n",
              "   [('Equipo-12', 'B'), ('Equipo-13', 'B')]]},\n",
              " {'Jornada': 'Jornada Nro.: 6',\n",
              "  'Equipos': [[('Equipo-13', 'B'), ('Equipo-20', 'C')],\n",
              "   [('Equipo-14', 'B'), ('Equipo-12', 'B')],\n",
              "   [('Equipo-15', 'C'), ('Equipo-11', 'B')],\n",
              "   [('Equipo-16', 'C'), ('Equipo-10', 'B')],\n",
              "   [('Equipo-17', 'C'), ('Equipo-9', 'B')],\n",
              "   [('Equipo-18', 'C'), ('Equipo-8', 'B')],\n",
              "   [('Equipo-19', 'C'), ('Equipo-7', 'B')],\n",
              "   [('Equipo-1', 'A'), ('Equipo-6', 'B')],\n",
              "   [('Equipo-2', 'A'), ('Equipo-5', 'B')],\n",
              "   [('Equipo-3', 'A'), ('Equipo-4', 'A')]]},\n",
              " {'Jornada': 'Jornada Nro.: 7',\n",
              "  'Equipos': [[('Equipo-4', 'A'), ('Equipo-20', 'C')],\n",
              "   [('Equipo-5', 'B'), ('Equipo-3', 'A')],\n",
              "   [('Equipo-6', 'B'), ('Equipo-2', 'A')],\n",
              "   [('Equipo-7', 'B'), ('Equipo-1', 'A')],\n",
              "   [('Equipo-8', 'B'), ('Equipo-19', 'C')],\n",
              "   [('Equipo-9', 'B'), ('Equipo-18', 'C')],\n",
              "   [('Equipo-10', 'B'), ('Equipo-17', 'C')],\n",
              "   [('Equipo-11', 'B'), ('Equipo-16', 'C')],\n",
              "   [('Equipo-12', 'B'), ('Equipo-15', 'C')],\n",
              "   [('Equipo-13', 'B'), ('Equipo-14', 'B')]]},\n",
              " {'Jornada': 'Jornada Nro.: 8',\n",
              "  'Equipos': [[('Equipo-14', 'B'), ('Equipo-20', 'C')],\n",
              "   [('Equipo-15', 'C'), ('Equipo-13', 'B')],\n",
              "   [('Equipo-16', 'C'), ('Equipo-12', 'B')],\n",
              "   [('Equipo-17', 'C'), ('Equipo-11', 'B')],\n",
              "   [('Equipo-18', 'C'), ('Equipo-10', 'B')],\n",
              "   [('Equipo-19', 'C'), ('Equipo-9', 'B')],\n",
              "   [('Equipo-1', 'A'), ('Equipo-8', 'B')],\n",
              "   [('Equipo-2', 'A'), ('Equipo-7', 'B')],\n",
              "   [('Equipo-3', 'A'), ('Equipo-6', 'B')],\n",
              "   [('Equipo-4', 'A'), ('Equipo-5', 'B')]]},\n",
              " {'Jornada': 'Jornada Nro.: 9',\n",
              "  'Equipos': [[('Equipo-5', 'B'), ('Equipo-20', 'C')],\n",
              "   [('Equipo-6', 'B'), ('Equipo-4', 'A')],\n",
              "   [('Equipo-7', 'B'), ('Equipo-3', 'A')],\n",
              "   [('Equipo-8', 'B'), ('Equipo-2', 'A')],\n",
              "   [('Equipo-9', 'B'), ('Equipo-1', 'A')],\n",
              "   [('Equipo-10', 'B'), ('Equipo-19', 'C')],\n",
              "   [('Equipo-11', 'B'), ('Equipo-18', 'C')],\n",
              "   [('Equipo-12', 'B'), ('Equipo-17', 'C')],\n",
              "   [('Equipo-13', 'B'), ('Equipo-16', 'C')],\n",
              "   [('Equipo-14', 'B'), ('Equipo-15', 'C')]]},\n",
              " {'Jornada': 'Jornada Nro.: 10',\n",
              "  'Equipos': [[('Equipo-15', 'C'), ('Equipo-20', 'C')],\n",
              "   [('Equipo-16', 'C'), ('Equipo-14', 'B')],\n",
              "   [('Equipo-17', 'C'), ('Equipo-13', 'B')],\n",
              "   [('Equipo-18', 'C'), ('Equipo-12', 'B')],\n",
              "   [('Equipo-19', 'C'), ('Equipo-11', 'B')],\n",
              "   [('Equipo-1', 'A'), ('Equipo-10', 'B')],\n",
              "   [('Equipo-2', 'A'), ('Equipo-9', 'B')],\n",
              "   [('Equipo-3', 'A'), ('Equipo-8', 'B')],\n",
              "   [('Equipo-4', 'A'), ('Equipo-7', 'B')],\n",
              "   [('Equipo-5', 'B'), ('Equipo-6', 'B')]]},\n",
              " {'Jornada': 'Jornada Nro.: 11',\n",
              "  'Equipos': [[('Equipo-6', 'B'), ('Equipo-20', 'C')],\n",
              "   [('Equipo-7', 'B'), ('Equipo-5', 'B')],\n",
              "   [('Equipo-8', 'B'), ('Equipo-4', 'A')],\n",
              "   [('Equipo-9', 'B'), ('Equipo-3', 'A')],\n",
              "   [('Equipo-10', 'B'), ('Equipo-2', 'A')],\n",
              "   [('Equipo-11', 'B'), ('Equipo-1', 'A')],\n",
              "   [('Equipo-12', 'B'), ('Equipo-19', 'C')],\n",
              "   [('Equipo-13', 'B'), ('Equipo-18', 'C')],\n",
              "   [('Equipo-14', 'B'), ('Equipo-17', 'C')],\n",
              "   [('Equipo-15', 'C'), ('Equipo-16', 'C')]]},\n",
              " {'Jornada': 'Jornada Nro.: 12',\n",
              "  'Equipos': [[('Equipo-16', 'C'), ('Equipo-20', 'C')],\n",
              "   [('Equipo-17', 'C'), ('Equipo-15', 'C')],\n",
              "   [('Equipo-18', 'C'), ('Equipo-14', 'B')],\n",
              "   [('Equipo-19', 'C'), ('Equipo-13', 'B')],\n",
              "   [('Equipo-1', 'A'), ('Equipo-12', 'B')],\n",
              "   [('Equipo-2', 'A'), ('Equipo-11', 'B')],\n",
              "   [('Equipo-3', 'A'), ('Equipo-10', 'B')],\n",
              "   [('Equipo-4', 'A'), ('Equipo-9', 'B')],\n",
              "   [('Equipo-5', 'B'), ('Equipo-8', 'B')],\n",
              "   [('Equipo-6', 'B'), ('Equipo-7', 'B')]]},\n",
              " {'Jornada': 'Jornada Nro.: 13',\n",
              "  'Equipos': [[('Equipo-7', 'B'), ('Equipo-20', 'C')],\n",
              "   [('Equipo-8', 'B'), ('Equipo-6', 'B')],\n",
              "   [('Equipo-9', 'B'), ('Equipo-5', 'B')],\n",
              "   [('Equipo-10', 'B'), ('Equipo-4', 'A')],\n",
              "   [('Equipo-11', 'B'), ('Equipo-3', 'A')],\n",
              "   [('Equipo-12', 'B'), ('Equipo-2', 'A')],\n",
              "   [('Equipo-13', 'B'), ('Equipo-1', 'A')],\n",
              "   [('Equipo-14', 'B'), ('Equipo-19', 'C')],\n",
              "   [('Equipo-15', 'C'), ('Equipo-18', 'C')],\n",
              "   [('Equipo-16', 'C'), ('Equipo-17', 'C')]]},\n",
              " {'Jornada': 'Jornada Nro.: 14',\n",
              "  'Equipos': [[('Equipo-17', 'C'), ('Equipo-20', 'C')],\n",
              "   [('Equipo-18', 'C'), ('Equipo-16', 'C')],\n",
              "   [('Equipo-19', 'C'), ('Equipo-15', 'C')],\n",
              "   [('Equipo-1', 'A'), ('Equipo-14', 'B')],\n",
              "   [('Equipo-2', 'A'), ('Equipo-13', 'B')],\n",
              "   [('Equipo-3', 'A'), ('Equipo-12', 'B')],\n",
              "   [('Equipo-4', 'A'), ('Equipo-11', 'B')],\n",
              "   [('Equipo-5', 'B'), ('Equipo-10', 'B')],\n",
              "   [('Equipo-6', 'B'), ('Equipo-9', 'B')],\n",
              "   [('Equipo-7', 'B'), ('Equipo-8', 'B')]]},\n",
              " {'Jornada': 'Jornada Nro.: 15',\n",
              "  'Equipos': [[('Equipo-8', 'B'), ('Equipo-20', 'C')],\n",
              "   [('Equipo-9', 'B'), ('Equipo-7', 'B')],\n",
              "   [('Equipo-10', 'B'), ('Equipo-6', 'B')],\n",
              "   [('Equipo-11', 'B'), ('Equipo-5', 'B')],\n",
              "   [('Equipo-12', 'B'), ('Equipo-4', 'A')],\n",
              "   [('Equipo-13', 'B'), ('Equipo-3', 'A')],\n",
              "   [('Equipo-14', 'B'), ('Equipo-2', 'A')],\n",
              "   [('Equipo-15', 'C'), ('Equipo-1', 'A')],\n",
              "   [('Equipo-16', 'C'), ('Equipo-19', 'C')],\n",
              "   [('Equipo-17', 'C'), ('Equipo-18', 'C')]]},\n",
              " {'Jornada': 'Jornada Nro.: 16',\n",
              "  'Equipos': [[('Equipo-18', 'C'), ('Equipo-20', 'C')],\n",
              "   [('Equipo-19', 'C'), ('Equipo-17', 'C')],\n",
              "   [('Equipo-1', 'A'), ('Equipo-16', 'C')],\n",
              "   [('Equipo-2', 'A'), ('Equipo-15', 'C')],\n",
              "   [('Equipo-3', 'A'), ('Equipo-14', 'B')],\n",
              "   [('Equipo-4', 'A'), ('Equipo-13', 'B')],\n",
              "   [('Equipo-5', 'B'), ('Equipo-12', 'B')],\n",
              "   [('Equipo-6', 'B'), ('Equipo-11', 'B')],\n",
              "   [('Equipo-7', 'B'), ('Equipo-10', 'B')],\n",
              "   [('Equipo-8', 'B'), ('Equipo-9', 'B')]]},\n",
              " {'Jornada': 'Jornada Nro.: 17',\n",
              "  'Equipos': [[('Equipo-9', 'B'), ('Equipo-20', 'C')],\n",
              "   [('Equipo-10', 'B'), ('Equipo-8', 'B')],\n",
              "   [('Equipo-11', 'B'), ('Equipo-7', 'B')],\n",
              "   [('Equipo-12', 'B'), ('Equipo-6', 'B')],\n",
              "   [('Equipo-13', 'B'), ('Equipo-5', 'B')],\n",
              "   [('Equipo-14', 'B'), ('Equipo-4', 'A')],\n",
              "   [('Equipo-15', 'C'), ('Equipo-3', 'A')],\n",
              "   [('Equipo-16', 'C'), ('Equipo-2', 'A')],\n",
              "   [('Equipo-17', 'C'), ('Equipo-1', 'A')],\n",
              "   [('Equipo-18', 'C'), ('Equipo-19', 'C')]]},\n",
              " {'Jornada': 'Jornada Nro.: 18',\n",
              "  'Equipos': [[('Equipo-19', 'C'), ('Equipo-20', 'C')],\n",
              "   [('Equipo-1', 'A'), ('Equipo-18', 'C')],\n",
              "   [('Equipo-2', 'A'), ('Equipo-17', 'C')],\n",
              "   [('Equipo-3', 'A'), ('Equipo-16', 'C')],\n",
              "   [('Equipo-4', 'A'), ('Equipo-15', 'C')],\n",
              "   [('Equipo-5', 'B'), ('Equipo-14', 'B')],\n",
              "   [('Equipo-6', 'B'), ('Equipo-13', 'B')],\n",
              "   [('Equipo-7', 'B'), ('Equipo-12', 'B')],\n",
              "   [('Equipo-8', 'B'), ('Equipo-11', 'B')],\n",
              "   [('Equipo-9', 'B'), ('Equipo-10', 'B')]]},\n",
              " {'Jornada': 'Jornada Nro.: 19',\n",
              "  'Equipos': [[('Equipo-10', 'B'), ('Equipo-20', 'C')],\n",
              "   [('Equipo-11', 'B'), ('Equipo-9', 'B')],\n",
              "   [('Equipo-12', 'B'), ('Equipo-8', 'B')],\n",
              "   [('Equipo-13', 'B'), ('Equipo-7', 'B')],\n",
              "   [('Equipo-14', 'B'), ('Equipo-6', 'B')],\n",
              "   [('Equipo-15', 'C'), ('Equipo-5', 'B')],\n",
              "   [('Equipo-16', 'C'), ('Equipo-4', 'A')],\n",
              "   [('Equipo-17', 'C'), ('Equipo-3', 'A')],\n",
              "   [('Equipo-18', 'C'), ('Equipo-2', 'A')],\n",
              "   [('Equipo-19', 'C'), ('Equipo-1', 'A')]]}]"
            ]
          },
          "metadata": {
            "tags": []
          },
          "execution_count": 8
        }
      ]
    },
    {
      "metadata": {
        "id": "7UBb5TJ4fIMz",
        "colab_type": "code",
        "colab": {}
      },
      "cell_type": "code",
      "source": [
        ""
      ],
      "execution_count": 0,
      "outputs": []
    },
    {
      "metadata": {
        "colab_type": "text",
        "id": "zy5ZROmjlGo1"
      },
      "cell_type": "markdown",
      "source": [
        "Aplica el algoritmo al juego de datos generado"
      ]
    },
    {
      "metadata": {
        "colab_type": "text",
        "id": "_Cmj-PVylMsa"
      },
      "cell_type": "markdown",
      "source": [
        "Respuesta:\n",
        "\n",
        "Está aplicado más abajo"
      ]
    },
    {
      "metadata": {
        "colab_type": "code",
        "id": "Jkx8GeiYlUz1",
        "colab": {}
      },
      "cell_type": "code",
      "source": [
        ""
      ],
      "execution_count": 0,
      "outputs": []
    },
    {
      "metadata": {
        "colab_type": "text",
        "id": "eTFWUJQrtGcv"
      },
      "cell_type": "markdown",
      "source": [
        "Enumera las referencias que has utilizado(si ha sido necesario) para llevar a cabo el trabajo"
      ]
    },
    {
      "metadata": {
        "colab_type": "text",
        "id": "YKQ_mRBttWsP"
      },
      "cell_type": "markdown",
      "source": [
        "Respuesta:\n",
        "\n",
        "https://es.wikipedia.org/wiki/Sistema_de_todos_contra_todos\n",
        "\n",
        "https://www.iit.comillas.edu/pfc/resumenes/4513ba74df8c4.pdf"
      ]
    },
    {
      "metadata": {
        "colab_type": "text",
        "id": "kAkDPUyRtYyH"
      },
      "cell_type": "markdown",
      "source": [
        "Describe brevemente las lineas de como crees que es posible avanzar en el estudio del problema. Ten en cuenta incluso posibles variaciones del problema y/o variaciones al alza del tamaño"
      ]
    },
    {
      "metadata": {
        "colab_type": "text",
        "id": "IE0uZmo-tZu-"
      },
      "cell_type": "markdown",
      "source": [
        "Respuesta"
      ]
    },
    {
      "metadata": {
        "id": "2uA6eVBOfINQ",
        "colab_type": "code",
        "colab": {}
      },
      "cell_type": "code",
      "source": [
        ""
      ],
      "execution_count": 0,
      "outputs": []
    },
    {
      "metadata": {
        "id": "FM4IkXanfINT",
        "colab_type": "text"
      },
      "cell_type": "markdown",
      "source": [
        "## EJECUCIÓN Y VERIFICACIÓN DE ALGORITMOS\n",
        "\n",
        "Aquí ejecutaré los algoritmos para ver su fiabilidad y verificar resultados"
      ]
    },
    {
      "metadata": {
        "id": "mA086vk3fINU",
        "colab_type": "code",
        "colab": {}
      },
      "cell_type": "code",
      "source": [
        "jornada1 = [('Viernes - 20:00', [[('Equipo-5',  'B'), ('Equipo-16', 'C')]]), \n",
        "            ('Sábado - 12:00',  [[('Equipo-7',  'B'), ('Equipo-14', 'B')]]), \n",
        "            ('Sábado - 16:00',  [[('Equipo-8',  'B'), ('Equipo-13', 'B')]]), \n",
        "            ('Sábado - 18:00',  [[('Equipo-1',  'A'), ('Equipo-20', 'C')]]), \n",
        "            ('Sábado - 20:00',  [[('Equipo-2',  'A'), ('Equipo-19', 'C')]]), \n",
        "            ('Domingo - 12:00', [[('Equipo-9',  'B'), ('Equipo-12', 'B')]]), \n",
        "            ('Domingo - 16:00', [[('Equipo-10', 'B'), ('Equipo-11', 'B')]]), \n",
        "            ('Domingo - 18:00', [[('Equipo-3',  'A'), ('Equipo-18', 'C')]]), \n",
        "            ('Domingo - 20:00', [[('Equipo-4',  'A'), ('Equipo-17', 'C')]]), \n",
        "            ('Lunes - 20:00',   [[('Equipo-6',  'B'), ('Equipo-15', 'C')]])]\n",
        "\n",
        "jornada2 = [('Viernes - 20:00', [[('Equipo-5',  'B'), ('Equipo-16', 'C')]]),\n",
        "            ('Sábado - 12:00',  [[('Equipo-7',  'B'), ('Equipo-14', 'B')]]), \n",
        "            ('Sábado - 16:00',  [[('Equipo-8',  'B'), ('Equipo-13', 'B')]]), \n",
        "            ('Sábado - 18:00',  [[('Equipo-19', 'C'), ('Equipo-20', 'C')]]), \n",
        "            ('Sábado - 20:00',  [[('Equipo-2',  'A'), ('Equipo-1',  'A')]]),\n",
        "            ('Domingo - 12:00', [[('Equipo-9',  'B'), ('Equipo-12', 'B')]]), \n",
        "            ('Domingo - 16:00', [[('Equipo-10', 'B'), ('Equipo-11', 'B')]]), \n",
        "            ('Domingo - 18:00', [[('Equipo-3',  'A'), ('Equipo-18', 'C')]]), \n",
        "            ('Domingo - 20:00', [[('Equipo-4',  'A'), ('Equipo-17', 'C')]]), \n",
        "            ('Lunes - 20:00',   [[('Equipo-6',  'B'), ('Equipo-15', 'C')]])]"
      ],
      "execution_count": 0,
      "outputs": []
    },
    {
      "metadata": {
        "id": "VMhDMMe4fINf",
        "colab_type": "text"
      },
      "cell_type": "markdown",
      "source": [
        "#### Prueba sobre jordadas predefinidas"
      ]
    },
    {
      "metadata": {
        "id": "wVMds65JfINg",
        "colab_type": "code",
        "colab": {},
        "outputId": "8f2ba44c-a41d-4e46-b889-1b9301512e73"
      },
      "cell_type": "code",
      "source": [
        "puntuacion, resumen_puntuacion = calculaAudienciaJornada(jornada2,jornadaM,audienciaM,audienciaP,True)\n",
        "print(\"Puntuacion: %f\" % puntuacion)\n",
        "print(\"Resumen:\")\n",
        "resumen_puntuacion"
      ],
      "execution_count": 0,
      "outputs": [
        {
          "output_type": "stream",
          "text": [
            "Puntuacion: 7.049000\n",
            "Resumen:\n"
          ],
          "name": "stdout"
        },
        {
          "output_type": "execute_result",
          "data": {
            "text/plain": [
              "[{'horario': 'Viernes - 20:00',\n",
              "  'partido': [('Equipo-5', 'B'), ('Equipo-16', 'C')],\n",
              "  'resumen': {'audiencia': 0.75,\n",
              "   'coef_horario': 0.4,\n",
              "   'coef_audiencia(%)': '3/3',\n",
              "   'audiencia_partido': 0.30000000000000004}},\n",
              " {'horario': 'Sábado - 12:00',\n",
              "  'partido': [('Equipo-7', 'B'), ('Equipo-14', 'B')],\n",
              "  'resumen': {'audiencia': 0.9,\n",
              "   'coef_horario': 0.55,\n",
              "   'coef_audiencia(%)': '4/4',\n",
              "   'audiencia_partido': 0.49500000000000005}},\n",
              " {'horario': 'Sábado - 16:00',\n",
              "  'partido': [('Equipo-8', 'B'), ('Equipo-13', 'B')],\n",
              "  'resumen': {'audiencia': 0.9,\n",
              "   'coef_horario': 0.7,\n",
              "   'coef_audiencia(%)': '4/4',\n",
              "   'audiencia_partido': 0.63}},\n",
              " {'horario': 'Sábado - 18:00',\n",
              "  'partido': [('Equipo-19', 'C'), ('Equipo-20', 'C')],\n",
              "  'resumen': {'audiencia': 0.47,\n",
              "   'coef_horario': 0.8,\n",
              "   'coef_audiencia(%)': '2/2',\n",
              "   'audiencia_partido': 0.376}},\n",
              " {'horario': 'Sábado - 20:00',\n",
              "  'partido': [('Equipo-2', 'A'), ('Equipo-1', 'A')],\n",
              "  'resumen': {'audiencia': 2.0,\n",
              "   'coef_horario': 1,\n",
              "   'coef_audiencia(%)': '8/8',\n",
              "   'audiencia_partido': 2.0}},\n",
              " {'horario': 'Domingo - 12:00',\n",
              "  'partido': [('Equipo-9', 'B'), ('Equipo-12', 'B')],\n",
              "  'resumen': {'audiencia': 0.9,\n",
              "   'coef_horario': 0.45,\n",
              "   'coef_audiencia(%)': '4/4',\n",
              "   'audiencia_partido': 0.405}},\n",
              " {'horario': 'Domingo - 16:00',\n",
              "  'partido': [('Equipo-10', 'B'), ('Equipo-11', 'B')],\n",
              "  'resumen': {'audiencia': 0.9,\n",
              "   'coef_horario': 0.77,\n",
              "   'coef_audiencia(%)': '4/4',\n",
              "   'audiencia_partido': 0.6930000000000001}},\n",
              " {'horario': 'Domingo - 18:00',\n",
              "  'partido': [('Equipo-3', 'A'), ('Equipo-18', 'C')],\n",
              "  'resumen': {'audiencia': 1.0,\n",
              "   'coef_horario': 0.85,\n",
              "   'coef_audiencia(%)': '5/5',\n",
              "   'audiencia_partido': 0.85}},\n",
              " {'horario': 'Domingo - 20:00',\n",
              "  'partido': [('Equipo-4', 'A'), ('Equipo-17', 'C')],\n",
              "  'resumen': {'audiencia': 1.0,\n",
              "   'coef_horario': 1,\n",
              "   'coef_audiencia(%)': '5/5',\n",
              "   'audiencia_partido': 1.0}},\n",
              " {'horario': 'Lunes - 20:00',\n",
              "  'partido': [('Equipo-6', 'B'), ('Equipo-15', 'C')],\n",
              "  'resumen': {'audiencia': 0.75,\n",
              "   'coef_horario': 0.4,\n",
              "   'coef_audiencia(%)': '3/3',\n",
              "   'audiencia_partido': 0.30000000000000004}}]"
            ]
          },
          "metadata": {
            "tags": []
          },
          "execution_count": 10
        }
      ]
    },
    {
      "metadata": {
        "id": "Df4UC2_wfINk",
        "colab_type": "text"
      },
      "cell_type": "markdown",
      "source": [
        "#### Prueba método FUERZA BRUTA => Complejidad O(N!) == 10!"
      ]
    },
    {
      "metadata": {
        "id": "h80LqA4LfINm",
        "colab_type": "code",
        "colab": {},
        "outputId": "ae73f481-19a0-40e4-c8f9-93e15b18c81e"
      },
      "cell_type": "code",
      "source": [
        "## ESTA COMENTADO PORQUE TARDE MUCHO O(N * N!) descomentar para ver como funciona\n",
        "\n",
        "# Puntuacion_calendario = 0\n",
        "print(\"Calculando Calendario O(N * N!)...\")\n",
        "# for j in calendario:\n",
        "#     jornada, puntuacion = calcularJornadaFB(j,jornadaM,audienciaM,audienciaP)\n",
        "#     print(j['Jornada'] + \" Puntuacion: %f\" % puntuacion)\n",
        "#     Puntuacion_calendario += puntuacion\n",
        "# print(\"Total: %f\" % Puntuacion_calendario)\n",
        "\n",
        "j = calendario[0]\n",
        "print(\"Calculando jornada O(N!)...\")\n",
        "jornada, puntuacion = calcularJornadaFB(j,jornadaM,audienciaM,audienciaP)\n",
        "print(j['Jornada'] + \" Puntuacion: %f \\n\" % puntuacion)\n",
        "\n",
        "\n",
        "puntuacion, resumen = calculaAudienciaJornada(jornada,jornadaM,audienciaM,audienciaP,True)\n",
        "print(\"Resumen:\")\n",
        "resumen"
      ],
      "execution_count": 0,
      "outputs": [
        {
          "output_type": "stream",
          "text": [
            "Calculando Calendario O(N * N!)...\n",
            "Calculando jornada O(N!)...\n",
            "Jornada Nro.: 1 Puntuacion: 6.473000 \n",
            "\n",
            "Resumen:\n"
          ],
          "name": "stdout"
        },
        {
          "output_type": "execute_result",
          "data": {
            "text/plain": [
              "[{'horario': 'Sábado - 20:00',\n",
              "  'partido': [('Equipo-1', 'A'), ('Equipo-20', 'C')],\n",
              "  'resumen': {'audiencia': 1.0,\n",
              "   'coef_horario': 1,\n",
              "   'coef_audiencia(%)': '5/5',\n",
              "   'audiencia_partido': 1.0}},\n",
              " {'horario': 'Domingo - 20:00',\n",
              "  'partido': [('Equipo-2', 'A'), ('Equipo-19', 'C')],\n",
              "  'resumen': {'audiencia': 1.0,\n",
              "   'coef_horario': 1,\n",
              "   'coef_audiencia(%)': '5/5',\n",
              "   'audiencia_partido': 1.0}},\n",
              " {'horario': 'Domingo - 18:00',\n",
              "  'partido': [('Equipo-3', 'A'), ('Equipo-18', 'C')],\n",
              "  'resumen': {'audiencia': 1.0,\n",
              "   'coef_horario': 0.85,\n",
              "   'coef_audiencia(%)': '5/5',\n",
              "   'audiencia_partido': 0.85}},\n",
              " {'horario': 'Sábado - 18:00',\n",
              "  'partido': [('Equipo-4', 'A'), ('Equipo-17', 'C')],\n",
              "  'resumen': {'audiencia': 1.0,\n",
              "   'coef_horario': 0.8,\n",
              "   'coef_audiencia(%)': '5/5',\n",
              "   'audiencia_partido': 0.8}},\n",
              " {'horario': 'Domingo - 16:00',\n",
              "  'partido': [('Equipo-7', 'B'), ('Equipo-14', 'B')],\n",
              "  'resumen': {'audiencia': 0.9,\n",
              "   'coef_horario': 0.77,\n",
              "   'coef_audiencia(%)': '4/4',\n",
              "   'audiencia_partido': 0.6930000000000001}},\n",
              " {'horario': 'Sábado - 16:00',\n",
              "  'partido': [('Equipo-8', 'B'), ('Equipo-13', 'B')],\n",
              "  'resumen': {'audiencia': 0.9,\n",
              "   'coef_horario': 0.7,\n",
              "   'coef_audiencia(%)': '4/4',\n",
              "   'audiencia_partido': 0.63}},\n",
              " {'horario': 'Sábado - 12:00',\n",
              "  'partido': [('Equipo-9', 'B'), ('Equipo-12', 'B')],\n",
              "  'resumen': {'audiencia': 0.9,\n",
              "   'coef_horario': 0.55,\n",
              "   'coef_audiencia(%)': '4/4',\n",
              "   'audiencia_partido': 0.49500000000000005}},\n",
              " {'horario': 'Domingo - 12:00',\n",
              "  'partido': [('Equipo-10', 'B'), ('Equipo-11', 'B')],\n",
              "  'resumen': {'audiencia': 0.9,\n",
              "   'coef_horario': 0.45,\n",
              "   'coef_audiencia(%)': '4/4',\n",
              "   'audiencia_partido': 0.405}},\n",
              " {'horario': 'Viernes - 20:00',\n",
              "  'partido': [('Equipo-5', 'B'), ('Equipo-16', 'C')],\n",
              "  'resumen': {'audiencia': 0.75,\n",
              "   'coef_horario': 0.4,\n",
              "   'coef_audiencia(%)': '3/3',\n",
              "   'audiencia_partido': 0.30000000000000004}},\n",
              " {'horario': 'Lunes - 20:00',\n",
              "  'partido': [('Equipo-6', 'B'), ('Equipo-15', 'C')],\n",
              "  'resumen': {'audiencia': 0.75,\n",
              "   'coef_horario': 0.4,\n",
              "   'coef_audiencia(%)': '3/3',\n",
              "   'audiencia_partido': 0.30000000000000004}}]"
            ]
          },
          "metadata": {
            "tags": []
          },
          "execution_count": 11
        }
      ]
    },
    {
      "metadata": {
        "id": "WRPMBd6ffIN0",
        "colab_type": "text"
      },
      "cell_type": "markdown",
      "source": [
        "#### Prueba de método OPTIMO  => Complejidad: O(N)"
      ]
    },
    {
      "metadata": {
        "id": "skToZnC8fIN1",
        "colab_type": "code",
        "colab": {},
        "outputId": "b751bd29-dfb3-4193-cae9-92fd42aea2c6"
      },
      "cell_type": "code",
      "source": [
        "Puntuacion_calendario = 0\n",
        "for j in calendario:\n",
        "    jornada, puntuacion = calcularJornada(j,jornadaM,audienciaM,audienciaP)\n",
        "    print(j['Jornada'] + \" Puntuacion: %f\" % puntuacion)\n",
        "    Puntuacion_calendario += puntuacion\n",
        "print(\"Total: %f\" % Puntuacion_calendario)"
      ],
      "execution_count": 0,
      "outputs": [
        {
          "output_type": "stream",
          "text": [
            "Jornada Nro.: 1 Puntuacion: 6.473000\n",
            "Jornada Nro.: 2 Puntuacion: 7.243000\n",
            "Jornada Nro.: 3 Puntuacion: 7.243000\n",
            "Jornada Nro.: 4 Puntuacion: 7.937500\n",
            "Jornada Nro.: 5 Puntuacion: 7.438000\n",
            "Jornada Nro.: 6 Puntuacion: 7.577500\n",
            "Jornada Nro.: 7 Puntuacion: 7.073000\n",
            "Jornada Nro.: 8 Puntuacion: 7.197500\n",
            "Jornada Nro.: 9 Puntuacion: 7.197500\n",
            "Jornada Nro.: 10 Puntuacion: 7.201000\n",
            "Jornada Nro.: 11 Puntuacion: 7.201000\n",
            "Jornada Nro.: 12 Puntuacion: 7.194000\n",
            "Jornada Nro.: 13 Puntuacion: 7.194000\n",
            "Jornada Nro.: 14 Puntuacion: 7.150500\n",
            "Jornada Nro.: 15 Puntuacion: 7.036500\n",
            "Jornada Nro.: 16 Puntuacion: 6.849000\n",
            "Jornada Nro.: 17 Puntuacion: 6.661000\n",
            "Jornada Nro.: 18 Puntuacion: 6.421000\n",
            "Jornada Nro.: 19 Puntuacion: 6.473000\n",
            "Total: 134.761000\n"
          ],
          "name": "stdout"
        }
      ]
    },
    {
      "metadata": {
        "id": "pkmOjvmSfIN4",
        "colab_type": "text"
      },
      "cell_type": "markdown",
      "source": [
        "#### Obtención del mejor calendario\n",
        "\n",
        "Aquí he querido generar el mejor calendario para la competición, pero me he quedado atrapado"
      ]
    },
    {
      "metadata": {
        "id": "Y9qDe5ykfIN6",
        "colab_type": "code",
        "colab": {},
        "outputId": "aaf75918-9fcf-4fcb-af61-6e9020774ad8"
      },
      "cell_type": "code",
      "source": [
        "import itertools as it\n",
        "\n",
        "Mejor_Calendario = 0\n",
        "Calendario = []\n",
        "\n",
        "# aux_list = [x for x in range(20)]\n",
        "# print(aux_list)\n",
        "# aux = 0\n",
        "#for x in it.permutations(aux_list,len(aux_list)):\n",
        "#    aux += 1\n",
        "    \n",
        "# print(\"Iteraciones Calendario: %d\" % aux)    \n",
        "    \n",
        "    \n",
        "print(\"** PRUEBA DE CALENDARIO ESTÁTICO **\")    \n",
        "Puntuacion_calendario = 0\n",
        "for j in calendario:\n",
        "    jornada, puntuacion = calcularJornada(j,jornadaM,audienciaM,audienciaP)\n",
        "    print(j['Jornada'] + \" Puntuacion: %f \" % puntuacion)\n",
        "    Puntuacion_calendario += puntuacion\n",
        "print(\"Total: %f \\n\" % Puntuacion_calendario)\n",
        "\n",
        "\n",
        "import random\n",
        "print(\"\\n** PRUEBA DE DISTINTOS CALENDARIOS GENERADOS CON LISTA DE EQUIPOS ORDENADA AL AZAHAR **\")\n",
        "for i in range (4):\n",
        "    print(\"** CALENDARIO %d **\" % i)\n",
        "    equipos = random.shuffle(equiposM)\n",
        "    calendario = getCalendarioClubes(equiposM)\n",
        "    Puntuacion_calendario = 0\n",
        "    for j in calendario:\n",
        "        jornada, puntuacion = calcularJornada(j,jornadaM,audienciaM,audienciaP)\n",
        "#         print(j['Jornada'] + \" Puntuacion: %f \" % puntuacion)\n",
        "        Puntuacion_calendario += puntuacion\n",
        "    print(\"Total: %f \\n\" % Puntuacion_calendario)\n",
        "    "
      ],
      "execution_count": 0,
      "outputs": [
        {
          "output_type": "stream",
          "text": [
            "** PRUEBA DE CALENDARIO ESTÁTICO **\n",
            "Jornada Nro.: 1 Puntuacion: 6.473000 \n",
            "Jornada Nro.: 2 Puntuacion: 7.243000 \n",
            "Jornada Nro.: 3 Puntuacion: 7.243000 \n",
            "Jornada Nro.: 4 Puntuacion: 7.937500 \n",
            "Jornada Nro.: 5 Puntuacion: 7.438000 \n",
            "Jornada Nro.: 6 Puntuacion: 7.577500 \n",
            "Jornada Nro.: 7 Puntuacion: 7.073000 \n",
            "Jornada Nro.: 8 Puntuacion: 7.197500 \n",
            "Jornada Nro.: 9 Puntuacion: 7.197500 \n",
            "Jornada Nro.: 10 Puntuacion: 7.201000 \n",
            "Jornada Nro.: 11 Puntuacion: 7.201000 \n",
            "Jornada Nro.: 12 Puntuacion: 7.194000 \n",
            "Jornada Nro.: 13 Puntuacion: 7.194000 \n",
            "Jornada Nro.: 14 Puntuacion: 7.150500 \n",
            "Jornada Nro.: 15 Puntuacion: 7.036500 \n",
            "Jornada Nro.: 16 Puntuacion: 6.849000 \n",
            "Jornada Nro.: 17 Puntuacion: 6.661000 \n",
            "Jornada Nro.: 18 Puntuacion: 6.421000 \n",
            "Jornada Nro.: 19 Puntuacion: 6.473000 \n",
            "Total: 134.761000 \n",
            "\n",
            "\n",
            "** PRUEBA DE DISTINTOS CALENDARIOS GENERADOS CON LISTA DE EQUIPOS ORDENADA AL AZAHAR **\n",
            "** CALENDARIO 0 **\n",
            "Total: 135.351500 \n",
            "\n",
            "** CALENDARIO 1 **\n",
            "Total: 135.381500 \n",
            "\n",
            "** CALENDARIO 2 **\n",
            "Total: 135.329000 \n",
            "\n",
            "** CALENDARIO 3 **\n",
            "Total: 135.414500 \n",
            "\n"
          ],
          "name": "stdout"
        }
      ]
    }
  ]
}