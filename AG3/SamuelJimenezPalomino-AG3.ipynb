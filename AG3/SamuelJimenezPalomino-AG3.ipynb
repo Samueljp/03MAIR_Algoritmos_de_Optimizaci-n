{
 "cells": [
  {
   "cell_type": "markdown",
   "metadata": {
    "colab_type": "text",
    "id": "view-in-github"
   },
   "source": [
    "<a href=\"https://colab.research.google.com/github/Samueljp/03MAIR_Algoritmos_de_Optimizaci-n/blob/develop/AG3/SamuelJimenezPalomino-AG3.ipynb\" target=\"_parent\"><img src=\"https://colab.research.google.com/assets/colab-badge.svg\" alt=\"Open In Colab\"/></a>"
   ]
  },
  {
   "cell_type": "markdown",
   "metadata": {
    "colab_type": "text",
    "id": "pMZkQV4JHvVd"
   },
   "source": [
    "## ACTIVIDAD GUIADA 3\n",
    "#### Autor: Samuel Jiménez Palomino\n",
    "#### URL: https://github.com/Samueljp/03MAIR_Algoritmos_de_Optimizaci-n/blob/develop/AG3"
   ]
  },
  {
   "cell_type": "code",
   "execution_count": 1,
   "metadata": {},
   "outputs": [],
   "source": [
    "#Decorador para calcular_tiempo a la función para la cual queremos calcular el tiempo de ejecución(Isabel Vázquez)\n",
    "from time import time\n",
    "#Función para calcular el tiempo de ejecución\n",
    "def calcular_tiempo(f):\n",
    "   \n",
    "    def wrapper(*args, **kwargs):        \n",
    "        inicio = time()       \n",
    "        resultado = f(*args, **kwargs)       \n",
    "        tiempo = time() - inicio\n",
    "        print(\"Tiempo de ejecución para algoritmo: \"+str(tiempo))\n",
    "        return resultado\n",
    "    \n",
    "    return wrapper"
   ]
  },
  {
   "cell_type": "code",
   "execution_count": 2,
   "metadata": {},
   "outputs": [
    {
     "data": {
      "text/plain": [
       "('swiss42.tsp', <http.client.HTTPMessage at 0x1c3a90a5b00>)"
      ]
     },
     "execution_count": 2,
     "metadata": {},
     "output_type": "execute_result"
    }
   ],
   "source": [
    "import urllib.request\n",
    "\n",
    "file = \"swiss42.tsp\"\n",
    "\n",
    "urllib.request.urlretrieve(\"http://elib.zib.de/pub/mp-testdata/tsp/tsplib/tsp/swiss42.tsp\",file)"
   ]
  },
  {
   "cell_type": "code",
   "execution_count": 3,
   "metadata": {},
   "outputs": [],
   "source": [
    "import tsplib95 \n",
    "import random \n",
    "from math import e"
   ]
  },
  {
   "cell_type": "code",
   "execution_count": 4,
   "metadata": {},
   "outputs": [],
   "source": [
    "problem = tsplib95.load_problem(file) \n",
    "#Nodos \n",
    "Nodos = list(problem.get_nodes()) \n",
    "#Aristas \n",
    "Aristas = list(problem.get_edges()) "
   ]
  },
  {
   "cell_type": "code",
   "execution_count": 5,
   "metadata": {},
   "outputs": [],
   "source": [
    "def factorial(N):\n",
    "    if N == 0:\n",
    "        return 1\n",
    "    else:\n",
    "        return N * factorial(N-1)"
   ]
  },
  {
   "cell_type": "code",
   "execution_count": 6,
   "metadata": {},
   "outputs": [],
   "source": [
    "#Se genera una solucion aleatoria con comienzo en en el nodo 0 \n",
    "def crear_solucion(Nodos):\n",
    "    solucion = [0] \n",
    "    for i in range(len(Nodos)-1):\n",
    "        solucion = solucion + [random.choice(list(set(Nodos) - set({0}) - set(solucion)))] \n",
    "    return solucion"
   ]
  },
  {
   "cell_type": "code",
   "execution_count": 7,
   "metadata": {},
   "outputs": [],
   "source": [
    "solucion =crear_solucion(Nodos)"
   ]
  },
  {
   "cell_type": "code",
   "execution_count": 8,
   "metadata": {},
   "outputs": [],
   "source": [
    "#Devuelve la distancia entre dos nodos \n",
    "def distancia(a,b, problem):\n",
    "    return problem.wfunc(a,b)"
   ]
  },
  {
   "cell_type": "code",
   "execution_count": 9,
   "metadata": {},
   "outputs": [],
   "source": [
    "#distancia(1,8,problem)"
   ]
  },
  {
   "cell_type": "code",
   "execution_count": 10,
   "metadata": {},
   "outputs": [],
   "source": [
    "#Devuelve la distancia total de una trayectoria \n",
    "def distancia_total(solucion, problem):\n",
    "    distancia_total = 0 \n",
    "    for i in range(len(solucion)-1):\n",
    "        distancia_total += distancia(solucion[i] ,solucion[i+1] , problem) \n",
    "    return distancia_total + distancia(solucion[len(solucion)-1] ,solucion[0], problem)"
   ]
  },
  {
   "cell_type": "code",
   "execution_count": 11,
   "metadata": {},
   "outputs": [
    {
     "data": {
      "text/plain": [
       "4920"
      ]
     },
     "execution_count": 11,
     "metadata": {},
     "output_type": "execute_result"
    }
   ],
   "source": [
    "distancia_total(solucion,problem)"
   ]
  },
  {
   "cell_type": "code",
   "execution_count": 12,
   "metadata": {},
   "outputs": [],
   "source": [
    "@calcular_tiempo\n",
    "def busqueda_aleatoria(problem, N):\n",
    "    Nodos = list(problem.get_nodes())\n",
    "    \n",
    "    mejor_solucion = []\n",
    "    mejor_distancia = 10e100\n",
    "    \n",
    "    for i in range(N):\n",
    "        solucion = crear_solucion(Nodos)\n",
    "        distancia = distancia_total(solucion, problem)\n",
    "        \n",
    "        if(distancia < mejor_distancia):\n",
    "            mejor_solucion = solucion\n",
    "            mejor_distancia = distancia\n",
    "\n",
    "    print(\"Mejor solución: \" , mejor_solucion)\n",
    "    print(\"Mejor distancia: \" , mejor_distancia)\n",
    "            \n",
    "    return mejor_solucion, mejor_distancia"
   ]
  },
  {
   "cell_type": "code",
   "execution_count": 13,
   "metadata": {},
   "outputs": [
    {
     "name": "stdout",
     "output_type": "stream",
     "text": [
      "Mejor solución:  [0, 5, 3, 10, 30, 27, 32, 33, 7, 13, 14, 18, 12, 28, 8, 40, 22, 31, 19, 16, 25, 29, 9, 24, 23, 41, 26, 6, 2, 21, 39, 17, 35, 1, 34, 38, 11, 37, 36, 20, 15, 4]\n",
      "Mejor distancia:  3624\n",
      "Tiempo de ejecución para algoritmo: 13.153388023376465\n"
     ]
    }
   ],
   "source": [
    "a,b = busqueda_aleatoria(problem,50000)"
   ]
  },
  {
   "cell_type": "code",
   "execution_count": 14,
   "metadata": {},
   "outputs": [
    {
     "name": "stdout",
     "output_type": "stream",
     "text": [
      "[0, 31, 38, 12, 22, 28, 11, 13, 19, 29, 40, 14, 36, 5, 7, 39, 30, 9, 15, 16, 17, 27, 1, 33, 18, 3, 2, 37, 23, 25, 34, 10, 32, 24, 4, 35, 8, 26, 41, 20, 6, 21]\n",
      "[0, 31, 38, 34, 22, 28, 11, 13, 19, 29, 40, 14, 36, 5, 7, 39, 30, 9, 15, 16, 17, 27, 1, 33, 18, 3, 2, 37, 23, 25, 12, 10, 32, 24, 4, 35, 8, 26, 41, 20, 6, 21]\n"
     ]
    }
   ],
   "source": [
    "def genera_vecina(solucion):\n",
    "    #Generador de soluciones vecinas: 2-opt (intercambiar 2 nodos) Si hay N nodos se generan (N-1)x(N-2)/2 soluciones \n",
    "    #print(solucion) \n",
    "    mejor_solucion = []\n",
    "    mejor_distancia = 10e100 \n",
    "    for i in range(1,len(solucion)-1):\n",
    "        for j in range(i+1, len(solucion)):\n",
    "            vecina = solucion[:i] + [solucion[j]] + solucion[i+1:j] + [solucion[i]] + solucion[j+1:]\n",
    "            distancia_vecina = distancia_total(vecina, problem)\n",
    "            if distancia_vecina <= mejor_distancia:\n",
    "                mejor_distancia = distancia_vecina\n",
    "                mejor_solucion = vecina\n",
    "    return mejor_solucion\n",
    "\n",
    "solucion = crear_solucion(Nodos)\n",
    "print(solucion)\n",
    "\n",
    "nueva_solucion = genera_vecina(solucion)\n",
    "print(nueva_solucion)"
   ]
  },
  {
   "cell_type": "code",
   "execution_count": 15,
   "metadata": {},
   "outputs": [
    {
     "name": "stdout",
     "output_type": "stream",
     "text": [
      "Mejor solución:  [0, 3, 27, 2, 9, 23, 41, 4, 6, 14, 16, 15, 37, 17, 7, 19, 13, 5, 26, 21, 40, 24, 39, 28, 32, 34, 20, 1, 18, 12, 11, 25, 10, 8, 29, 30, 22, 38, 33, 35, 36, 31]\n",
      "Mejor distancia:  1907\n"
     ]
    }
   ],
   "source": [
    "def busqueda_local(problem, N):\n",
    "    Nodos = list(problem.get_nodes())\n",
    "    \n",
    "    mejor_solucion = []\n",
    "    mejor_distancia = 10e100\n",
    "    \n",
    "    solucion_referencia = crear_solucion(Nodos)\n",
    "    \n",
    "    for i in range(N):\n",
    "        vecina = genera_vecina(solucion_referencia)\n",
    "        distancia_vecina = distancia_total(vecina,problem)\n",
    "        \n",
    "        if distancia_vecina < mejor_distancia:\n",
    "            mejor_solucion = vecina\n",
    "            mejor_distancia = distancia_vecina\n",
    "            solucion_referencia = vecina\n",
    "            \n",
    "    print(\"Mejor solución: \" , mejor_solucion)\n",
    "    print(\"Mejor distancia: \" , mejor_distancia)\n",
    "        \n",
    "busqueda_local(problem,100)\n",
    "        "
   ]
  },
  {
   "cell_type": "code",
   "execution_count": 16,
   "metadata": {},
   "outputs": [],
   "source": [
    "#Generador de 1 solucion vecina 2-opt (intercambiar 2 nodos) \n",
    "#Se puede mejorar haciendo que la elección no se uniforme sino entre las que estén más proximas \n",
    "def genera_vecina_aleatorio(solucion):\n",
    "    i = random.choice(range(1, len(solucion)) ) \n",
    "    j = random.choice(list(set(range(1, len(solucion))) - {i})) \n",
    "    vecina = solucion[:i] + [solucion[j]] + solucion[i+1:j] + [solucion[i]] + solucion[j+1:]\n",
    "    return vecina"
   ]
  },
  {
   "cell_type": "code",
   "execution_count": 17,
   "metadata": {},
   "outputs": [],
   "source": [
    "def probabilidad(T,d):\n",
    "    r=random.random(); \n",
    "    if(r <= (e**(-1*d)/(T*1.0))):\n",
    "        return True \n",
    "    else: \n",
    "        return False\n",
    "\n",
    "def bajar_temperatura(T):\n",
    "    return T-1"
   ]
  },
  {
   "cell_type": "code",
   "execution_count": 21,
   "metadata": {},
   "outputs": [
    {
     "name": "stdout",
     "output_type": "stream",
     "text": [
      "La mejor solución encontrada es [0, 40, 24, 21, 39, 32, 37, 15, 16, 14, 1, 4, 6, 26, 5, 19, 13, 10, 23, 41, 25, 11, 12, 18, 2, 27, 28, 29, 30, 38, 22, 9, 8, 3, 7, 17, 31, 36, 35, 20, 33, 34]\n",
      "con una distancia total de 1881\n"
     ]
    }
   ],
   "source": [
    "def recocido_simulado(problem, TEMPERATURA):\n",
    "    #problem = datos del problema \n",
    "    #T = Temperatura \n",
    "    solucion_referencia = crear_solucion(Nodos) \n",
    "    distancia_referencia = distancia_total(solucion_referencia, problem) \n",
    "    \n",
    "    mejor_solucion = [] \n",
    "    mejor_distancia = 10e100 \n",
    "    \n",
    "    while TEMPERATURA > 0: \n",
    "        #Genera una solución vecina(aleatoria) \n",
    "        vecina = genera_vecina(solucion_referencia)\n",
    "        \n",
    "        #Calcula su valor(distancia) \n",
    "        distancia_vecina = distancia_total(vecina, problem)\n",
    "        \n",
    "        #Si es la mejor solución de todas se guarda \n",
    "        if distancia_vecina < mejor_distancia: \n",
    "            mejor_solucion = vecina \n",
    "            mejor_distancia = distancia_vecina \n",
    "            \n",
    "        #Si la nueva vecina es mejor se cambia y si es peor se cambia según una probabilidad dependiente de T y de |distancia_referencia - distancia_vecina| \n",
    "        if distancia_vecina < distancia_referencia or probabilidad(TEMPERATURA, abs(distancia_referencia - distancia_vecina) ) : \n",
    "            solucion_referencia = vecina \n",
    "            distancia_referencia = distancia_vecina \n",
    "                \n",
    "        TEMPERATURA = bajar_temperatura(TEMPERATURA) \n",
    "            \n",
    "    print(\"La mejor solución encontrada es \" , end=\"\") \n",
    "    print(mejor_solucion)\n",
    "    print(\"con una distancia total de \" , end=\"\") \n",
    "    print(mejor_distancia)\n",
    "    return mejor_solucion\n",
    "\n",
    "\n",
    "sol = recocido_simulado(problem, 10000)"
   ]
  },
  {
   "cell_type": "code",
   "execution_count": 22,
   "metadata": {},
   "outputs": [],
   "source": [
    "def Add_Nodo(problem, H ,T ):\n",
    "    #Establecer una una funcion de probabilidad para \n",
    "    # añadir un nuevo nodo dependiendo de los nodos mas cercanos y de las feromonas depositadas \n",
    "    Nodos = list(problem.get_nodes())     \n",
    "    return random.choice( list(set(range(1,len(Nodos))) - set(H) ) ) \n",
    "\n",
    "def Incrementa_Feromona(problem, T, H):\n",
    "    #Incrementar segun la calidad de la solución. Añadir una cantidad inversamente proporcional a la distancia total \n",
    "    for i in range(len(H)-1):\n",
    "        T[H[i]][H[i+1]] += 1000/distancia_total(H, problem) \n",
    "    return T \n",
    "\n",
    "def Evaporar_Feromonas(T):\n",
    "    #Podemos elegir diferentes funciones de evaporación dependiendo de la cantidad actual y de la suma total de feromonas depositadas,... \n",
    "    #Evapora 0.3 el valor de la feromona, sin que baje de 1 \n",
    "    T = [[ max(T[i][j] - 0.3 , 1) for i in range(len(Nodos)) ]\n",
    "    for j in range(len(Nodos))] \n",
    "    return T\n",
    "\n"
   ]
  },
  {
   "cell_type": "code",
   "execution_count": null,
   "metadata": {},
   "outputs": [],
   "source": [
    "def hormigas(problem, N):\n",
    "    #problem = datos del problema \n",
    "    #N = Número de agentes(hormigas) \n",
    "    #Nodos \n",
    "    Nodos = list(problem.get_nodes()) \n",
    "    #Aristas \n",
    "    Aristas = list(problem.get_edges()) \n",
    "    \n",
    "    #Inicializa las aristas con una cantidad inicial de feromonas:1 \n",
    "    T = [[ 1 for _ in range(len(Nodos)) ] for _ in range(len(Nodos))] \n",
    "    \n",
    "    #Se generan los agentes(hormigas) que serán estructuras de caminos desde 0 \n",
    "    Hormiga = [[0] for _ in range(N)] #Recorre cada agente construyendo la solución \n",
    "    for h in range(N): \n",
    "        #print(\"\\nAgente:\", h) \n",
    "        #Para cada agente se construye un camino \n",
    "        for i in range(len(Nodos)-1): \n",
    "            \n",
    "            #Elige el siguiente nodo \n",
    "            Nuevo_Nodo = Add_Nodo(problem, Hormiga[h] ,T ) \n",
    "            Hormiga[h].append(Nuevo_Nodo) \n",
    "            \n",
    "            #Incrementa feromonas en esa arista \n",
    "            T = Incrementa_Feromona(problem, T, Hormiga[h] ) \n",
    "            #print(\"Feromonas(1)\", T) \n",
    "            #Evapora Feromonas \n",
    "            T = Evaporar_Feromonas(T) \n",
    "            #print(\"Feromonas(2)\", T) \n",
    "            #Seleccionamos el mejor agente \n",
    "            mejor_solucion = [] \n",
    "            mejor_distancia = 10e100 \n",
    "            for h in range(N): \n",
    "                distancia_actual = distancia_total(Hormiga[h], problem) \n",
    "                if distancia_actual < mejor_distancia: \n",
    "                    mejor_solucion = Hormiga[h] \n",
    "                    mejor_distancia =distancia_actual \n",
    "                    print(mejor_solucion) \n",
    "                    print(mejor_distancia) \n",
    "                    hormigas(problem, 1000)"
   ]
  }
 ],
 "metadata": {
  "colab": {
   "include_colab_link": true,
   "name": "SamuelJimenezPalomino-AG2.ipynb",
   "provenance": [],
   "version": "0.3.2"
  },
  "kernelspec": {
   "display_name": "Python 3",
   "language": "python",
   "name": "python3"
  },
  "language_info": {
   "codemirror_mode": {
    "name": "ipython",
    "version": 3
   },
   "file_extension": ".py",
   "mimetype": "text/x-python",
   "name": "python",
   "nbconvert_exporter": "python",
   "pygments_lexer": "ipython3",
   "version": "3.7.2"
  }
 },
 "nbformat": 4,
 "nbformat_minor": 1
}
