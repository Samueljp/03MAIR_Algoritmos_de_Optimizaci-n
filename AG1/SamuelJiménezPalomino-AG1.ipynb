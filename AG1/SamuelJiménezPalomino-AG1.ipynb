{
 "cells": [
  {
   "cell_type": "markdown",
   "metadata": {},
   "source": [
    "## ACTIVIDAD GUIADA 1 \n",
    "#### Autor: Samuel Jiménez Palomino\n",
    "#### URL: https://github.com/Samueljp/03MAIR_Algoritmos_de_Optimizaci-n/blob/develop/AG1/SamuelJim%C3%A9nezPalominoAG1.ipynb"
   ]
  },
  {
   "cell_type": "code",
   "execution_count": 21,
   "metadata": {},
   "outputs": [],
   "source": [
    "import numpy as np\n",
    "import pandas as pd\n",
    "import matplotlib.pyplot as plt\n",
    "%matplotlib inline"
   ]
  },
  {
   "cell_type": "code",
   "execution_count": 38,
   "metadata": {},
   "outputs": [],
   "source": [
    "#Decorador para calcular_tiempo a la función para la cual queremos calcular el tiempo de ejecución(Isabel Vázquez)\n",
    "from time import time\n",
    "#Función para calcular el tiempo de ejecución\n",
    "def calcular_tiempo(f):\n",
    "   \n",
    "    def wrapper(*args, **kwargs):        \n",
    "        inicio = time()       \n",
    "        resultado = f(*args, **kwargs)       \n",
    "        tiempo = time() - inicio\n",
    "        print(\"Tiempo de ejecución para algoritmo: \"+str(tiempo))\n",
    "        return resultado\n",
    "    \n",
    "    return wrapper"
   ]
  },
  {
   "cell_type": "code",
   "execution_count": 8,
   "metadata": {},
   "outputs": [],
   "source": [
    "my_list = [9187, 244, 4054, 9222, 8373, 4993, 5265, 5470, 4519, 7182, 2035, 3506, 4337, 7580, 2554, 2824, 8357, 4447, 7379]"
   ]
  },
  {
   "cell_type": "code",
   "execution_count": 39,
   "metadata": {},
   "outputs": [],
   "source": [
    "@calcular_tiempo\n",
    "def quick_sort(A):\n",
    "    if len(A) == 1:\n",
    "        return A\n",
    "    if len(A) == 2:\n",
    "        # if (A[0] < A[1]):\n",
    "        #    return A\n",
    "        # else return [A[1],A[0]]\n",
    "        return [min(A),max(A)]\n",
    "    \n",
    "    LEFT = []\n",
    "    RIGHT = []\n",
    "    \n",
    "    #pivote = min(A) + max(A) / 2\n",
    "    pivote = (A[0] + A[1] + A[2]) / 3\n",
    "    for i in A:\n",
    "        if i < pivote:\n",
    "            LEFT.append(i)\n",
    "        else:\n",
    "            RIGHT.append(i)\n",
    "            \n",
    "    return quick_sort(LEFT) + quick_sort(RIGHT)\n"
   ]
  },
  {
   "cell_type": "code",
   "execution_count": 41,
   "metadata": {},
   "outputs": [
    {
     "name": "stdout",
     "output_type": "stream",
     "text": [
      "Tiempo de ejecución para algoritmo: 0.0\n",
      "Tiempo de ejecución para algoritmo: 0.0\n",
      "Tiempo de ejecución para algoritmo: 0.0\n",
      "Tiempo de ejecución para algoritmo: 0.0010006427764892578\n",
      "Tiempo de ejecución para algoritmo: 0.0\n",
      "Tiempo de ejecución para algoritmo: 0.0\n",
      "Tiempo de ejecución para algoritmo: 0.0\n",
      "Tiempo de ejecución para algoritmo: 0.0010006427764892578\n",
      "Tiempo de ejecución para algoritmo: 0.0010006427764892578\n",
      "Tiempo de ejecución para algoritmo: 0.0\n",
      "Tiempo de ejecución para algoritmo: 0.0\n",
      "Tiempo de ejecución para algoritmo: 0.0\n",
      "Tiempo de ejecución para algoritmo: 0.0\n",
      "Tiempo de ejecución para algoritmo: 0.0\n",
      "Tiempo de ejecución para algoritmo: 0.0\n",
      "Tiempo de ejecución para algoritmo: 0.0\n",
      "Tiempo de ejecución para algoritmo: 0.0\n",
      "Tiempo de ejecución para algoritmo: 0.0\n",
      "Tiempo de ejecución para algoritmo: 0.0\n",
      "Tiempo de ejecución para algoritmo: 0.0\n",
      "Tiempo de ejecución para algoritmo: 0.0010006427764892578\n",
      "[244, 2035, 2554, 2824, 3506, 4054, 4337, 4447, 4519, 4993, 5265, 5470, 7182, 7379, 7580, 8357, 8373, 9187, 9222]\n"
     ]
    }
   ],
   "source": [
    "print(quick_sort(my_list))"
   ]
  },
  {
   "cell_type": "code",
   "execution_count": 61,
   "metadata": {},
   "outputs": [],
   "source": [
    "SISTEMA = [25,10,5,1]\n",
    "@calcular_tiempo\n",
    "def cambio_monedas(C, S):\n",
    "    SOLUCION = [0 for i in range(len(S))]    \n",
    "    VALOR_ACUMULADO = 0    \n",
    "    for i in range(len(S)):        \n",
    "        monedas = int((C-VALOR_ACUMULADO)/S[i])        \n",
    "        SOLUCION[i] = monedas\n",
    "        VALOR_ACUMULADO += monedas*S[i]\n",
    "        if C == VALOR_ACUMULADO:\n",
    "            return SOLUCION"
   ]
  },
  {
   "cell_type": "code",
   "execution_count": 67,
   "metadata": {},
   "outputs": [
    {
     "name": "stdout",
     "output_type": "stream",
     "text": [
      "[19, 1, 0, 0]\n",
      "Tiempo de ejecución para algoritmo: 0.0\n",
      "[19, 1, 0, 0]\n"
     ]
    }
   ],
   "source": [
    "print(cambio_monedas(485,SISTEMA))"
   ]
  },
  {
   "cell_type": "code",
   "execution_count": 72,
   "metadata": {},
   "outputs": [],
   "source": [
    "N=4\n",
    "solucion = [0 for i in range(N)]\n",
    "etapa = 0\n",
    "def reinas(N, solucion, etapa):\n",
    "    if es_prometedora(solucion,etapa):\n",
    "        if etapa == N-1:\n",
    "            pirnt(solucion)\n",
    "    else:\n",
    "        reinas(N,solucion,etapa)"
   ]
  }
 ],
 "metadata": {
  "kernelspec": {
   "display_name": "Python 3",
   "language": "python",
   "name": "python3"
  },
  "language_info": {
   "codemirror_mode": {
    "name": "ipython",
    "version": 3
   },
   "file_extension": ".py",
   "mimetype": "text/x-python",
   "name": "python",
   "nbconvert_exporter": "python",
   "pygments_lexer": "ipython3",
   "version": "3.7.2"
  }
 },
 "nbformat": 4,
 "nbformat_minor": 2
}
