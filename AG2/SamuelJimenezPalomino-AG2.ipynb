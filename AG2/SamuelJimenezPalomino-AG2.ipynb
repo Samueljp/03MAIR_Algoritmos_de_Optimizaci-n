{
 "cells": [
  {
   "cell_type": "markdown",
   "metadata": {
    "colab_type": "text",
    "id": "view-in-github"
   },
   "source": [
    "<a href=\"https://colab.research.google.com/github/Samueljp/03MAIR_Algoritmos_de_Optimizaci-n/blob/develop/AG2/SamuelJimenezPalomino-AG2.ipynb\" target=\"_parent\"><img src=\"https://colab.research.google.com/assets/colab-badge.svg\" alt=\"Open In Colab\"/></a>"
   ]
  },
  {
   "cell_type": "markdown",
   "metadata": {
    "colab_type": "text",
    "id": "pMZkQV4JHvVd"
   },
   "source": [
    "## ACTIVIDAD GUIADA 2\n",
    "#### Autor: Samuel Jiménez Palomino\n",
    "#### URL: https://github.com/Samueljp/03MAIR_Algoritmos_de_Optimizaci-n/blob/develop/AG2"
   ]
  },
  {
   "cell_type": "code",
   "execution_count": 1,
   "metadata": {},
   "outputs": [],
   "source": [
    "#Decorador para calcular_tiempo a la función para la cual queremos calcular el tiempo de ejecución(Isabel Vázquez)\n",
    "from time import time\n",
    "#Función para calcular el tiempo de ejecución\n",
    "def calcular_tiempo(f):\n",
    "   \n",
    "    def wrapper(*args, **kwargs):        \n",
    "        inicio = time()       \n",
    "        resultado = f(*args, **kwargs)       \n",
    "        tiempo = time() - inicio\n",
    "        print(\"Tiempo de ejecución para algoritmo: \"+str(tiempo))\n",
    "        return resultado\n",
    "    \n",
    "    return wrapper"
   ]
  },
  {
   "cell_type": "code",
   "execution_count": 2,
   "metadata": {
    "colab": {},
    "colab_type": "code",
    "id": "J3t-Cm8LHvVg"
   },
   "outputs": [],
   "source": [
    "import math\n",
    "def distancia(A,B):\n",
    "    if type(A) is int or type(A) is float:\n",
    "        return abs(B-A)\n",
    "    else:\n",
    "        return math.sqrt(sum([(A[i]-B[i])**2 for i in range(len(A))]))"
   ]
  },
  {
   "cell_type": "code",
   "execution_count": 3,
   "metadata": {},
   "outputs": [],
   "source": [
    "#distancia((1,3),(5,8))"
   ]
  },
  {
   "cell_type": "code",
   "execution_count": 4,
   "metadata": {},
   "outputs": [],
   "source": [
    "import random\n",
    "\n",
    "N=2000\n",
    "lista_2D = [(random.randrange(1,N*10),random.randrange(1,N*10)) for _ in range(N)]\n"
   ]
  },
  {
   "cell_type": "code",
   "execution_count": 5,
   "metadata": {},
   "outputs": [],
   "source": [
    "#Fuerza Bruta\n",
    "def distancia_fuerza_brutaR(L):\n",
    "    mejor_distancia = math.inf\n",
    "    A,B = (),()\n",
    "    for i in range(len(L)):\n",
    "        for j in range(i+1,len(L)):\n",
    "            wdistancia = distancia(L[i],L[j])\n",
    "            if wdistancia < mejor_distancia:\n",
    "                A,B = L[i],L[j]\n",
    "                mejor_distancia = wdistancia\n",
    "    return [A,B]\n",
    "\n",
    "@calcular_tiempo\n",
    "def distancia_fuerza_bruta(L):\n",
    "    return distancia_fuerza_brutaR(L)"
   ]
  },
  {
   "cell_type": "code",
   "execution_count": 6,
   "metadata": {},
   "outputs": [
    {
     "name": "stdout",
     "output_type": "stream",
     "text": [
      "Tiempo de ejecución para algoritmo: 5.003141641616821\n"
     ]
    },
    {
     "data": {
      "text/plain": [
       "[(19922, 10299), (19921, 10307)]"
      ]
     },
     "execution_count": 6,
     "metadata": {},
     "output_type": "execute_result"
    }
   ],
   "source": [
    "distancia_fuerza_bruta(lista_2D)"
   ]
  },
  {
   "cell_type": "code",
   "execution_count": 7,
   "metadata": {},
   "outputs": [],
   "source": [
    "#Fuerza Bruta entre dos listas\n",
    "def distancia_fuerza_brutaR2(L1,L2):\n",
    "    mejor_distancia = math.inf\n",
    "    A,B = (),()\n",
    "    for i in range(len(L1)):\n",
    "        for j in range(len(L2)):\n",
    "            wdistancia = distancia(L1[i],L2[j])\n",
    "            if wdistancia < mejor_distancia:\n",
    "                A,B = L1[i],L2[j]\n",
    "                mejor_distancia = wdistancia\n",
    "    return [A,B]"
   ]
  },
  {
   "cell_type": "code",
   "execution_count": 8,
   "metadata": {},
   "outputs": [],
   "source": [
    "def distancia_divide_y_vencerasR(L):    \n",
    "    \n",
    "    # Si hay pocos por Fuerza Bruta\n",
    "    if len(L) < 10:\n",
    "        return distancia_fuerza_brutaR(L)\n",
    "    \n",
    "    # División de la lista en dos partes iguales\n",
    "    LISTA_IZQ = L[:len(L)//2]\n",
    "    LISTA_DER = L[len(L)//2:]\n",
    "    \n",
    "    # Cálculo de puntos de mínima mínima de las dos listas\n",
    "    PUNTOS_LISTA_IZQ = distancia_divide_y_vencerasR(LISTA_IZQ)\n",
    "    PUNTOS_LISTA_DER = distancia_divide_y_vencerasR(LISTA_DER)\n",
    "    \n",
    "    # Cálculo de la distancia de puntos de ambas listas\n",
    "    distancia_izq = distancia(PUNTOS_LISTA_IZQ[0],PUNTOS_LISTA_IZQ[1])\n",
    "    distancia_der = distancia(PUNTOS_LISTA_DER[0],PUNTOS_LISTA_DER[1])\n",
    "    \n",
    "    # Selección del mejor resultado de las listas\n",
    "    if distancia_izq <= distancia_der:\n",
    "        mejorPuntos = PUNTOS_LISTA_IZQ\n",
    "        mejorDistancia = distancia_izq\n",
    "    else:\n",
    "        mejorPuntos = PUNTOS_LISTA_DER\n",
    "        mejorDistancia = distancia_der\n",
    "    \n",
    "    # Selección de coordenada de corte del punto que divide ambas listas\n",
    "    # ya que la lista está ordenada por esta coordenada\n",
    "    corte = L[len(L)//2][0]    \n",
    "    \n",
    "    # Selección de puntos de ámbas listas que podrían estar cerca de algún elemento de la otra lista\n",
    "    cercanos_izq = [x for x in LISTA_IZQ if abs(x[0]-corte) < mejorDistancia]\n",
    "    cercanos_der = [x for x in LISTA_DER if abs(x[0]-corte) < mejorDistancia]\n",
    "    \n",
    "    # Sólo es necesarios si hay elementos en ambas listas\n",
    "    if (len(cercanos_izq) >= 1 and len(cercanos_der) >= 1):\n",
    "        # Calculamos la distancia mínima de los puntos de ámbas listas\n",
    "        # Se comparan los elementos de una lista con los de la otra\n",
    "        puntos_medio = distancia_fuerza_brutaR2(cercanos_izq , cercanos_der)\n",
    "        \n",
    "        # Si la menor distancia entre los elementos anteriores es menor del los conjuntos individualmente\n",
    "        if distancia(puntos_medio[0],puntos_medio[1]) < distancia(mejorPuntos[0],mejorPuntos[1]):\n",
    "            mejorPuntos = puntos_medio\n",
    "    \n",
    "    return mejorPuntos\n",
    "\n",
    "\n",
    "@calcular_tiempo    \n",
    "def distancia_divide_y_venceras(L):\n",
    "    # Ordenación de la lista para poder utilizar el algoritmo\n",
    "    L = sorted(L,key=lambda x : x[0])\n",
    "    return distancia_divide_y_vencerasR(L)    "
   ]
  },
  {
   "cell_type": "code",
   "execution_count": 9,
   "metadata": {},
   "outputs": [
    {
     "name": "stdout",
     "output_type": "stream",
     "text": [
      "Tiempo de ejecución para algoritmo: 4.791281700134277\n",
      "[(19922, 10299), (19921, 10307)]\n",
      "Tiempo de ejecución para algoritmo: 0.056021928787231445\n",
      "[(19921, 10307), (19922, 10299)]\n"
     ]
    }
   ],
   "source": [
    "#lista_2D = [(random.randrange(1,N*10),random.randrange(1,N*10)) for _ in range(N)]\n",
    "print(distancia_fuerza_bruta(lista_2D))\n",
    "print(distancia_divide_y_venceras(lista_2D))"
   ]
  },
  {
   "cell_type": "code",
   "execution_count": 10,
   "metadata": {},
   "outputs": [
    {
     "name": "stdout",
     "output_type": "stream",
     "text": [
      "6.324555320336759\n",
      "9.219544457292887\n"
     ]
    }
   ],
   "source": [
    "# [(47700, 16163), (47702, 16175)] 0.13003778457641602\n",
    "print(distancia((16367, 9747), (16369, 9741)))\n",
    "print(distancia((10322, 12297), (10328, 12290)))"
   ]
  },
  {
   "cell_type": "code",
   "execution_count": 11,
   "metadata": {},
   "outputs": [],
   "source": [
    "TARIFAS = [[0,5,4,3,999,999,999],\n",
    "           [999,0,999,2,3,999,11],\n",
    "           [999,999, 0,1,999,4,10],\n",
    "           [999,999,999, 0,5,6,9],\n",
    "           [999,999, 999,999,0,999,4],\n",
    "           [999,999, 999,999,999,0,3],\n",
    "           [999,999,999,999,999,999,0]]"
   ]
  },
  {
   "cell_type": "code",
   "execution_count": 12,
   "metadata": {},
   "outputs": [],
   "source": [
    "def calcular_ruta(RUTA, desde, hasta):\n",
    "    if desde == hasta: \n",
    "        #print(\"Ir a :\" + str(desde)) \n",
    "        return desde \n",
    "    else: \n",
    "        return str(calcular_ruta(RUTA, desde, RUTA[desde][hasta])) + ',' + str(RUTA[desde][hasta]) "
   ]
  },
  {
   "cell_type": "code",
   "execution_count": 13,
   "metadata": {},
   "outputs": [],
   "source": [
    "#Paseo por el rio\n",
    "def precios(TARIFAS):\n",
    "    N=len(TARIFAS[0])\n",
    "    PRECIOS = [[9999]*N for i in [9999]*N]     \n",
    "    RUTA =[[\"\"]*N for i in [\"\"]*N]\n",
    "    \n",
    "    for i in range(N-1):\n",
    "        for j in range (N):\n",
    "            MIN = TARIFAS[i][j]\n",
    "            RUTA[i][j]=i   \n",
    "            for k in range(i,N):\n",
    "                if k != j:\n",
    "                    if PRECIOS[i][k] == 9999:     # Implica que este camino aún no está evaluado\n",
    "                        if TARIFAS[i][k]+TARIFAS[k][j] < MIN:\n",
    "                            MIN= min(MIN,TARIFAS[i][k]+TARIFAS[k][j])\n",
    "                            RUTA[i][j] = k\n",
    "                    elif PRECIOS[i][k]+TARIFAS[k][j] < MIN:\n",
    "                        MIN= min(MIN,PRECIOS[i][k]+TARIFAS[k][j])\n",
    "                        RUTA[i][j] = k\n",
    "                PRECIOS[i][j]=MIN\n",
    "\n",
    "    return PRECIOS, RUTA"
   ]
  },
  {
   "cell_type": "code",
   "execution_count": 14,
   "metadata": {},
   "outputs": [],
   "source": [
    "import matplotlib.pyplot as plt\n",
    "import networkx as nx\n",
    "def dibujarGrafo(TARIFAS):\n",
    "    N = len(TARIFAS[0])\n",
    "    G=nx.OrderedMultiDiGraph()\n",
    "    for i in range(N):\n",
    "        G.add_node(str(i))\n",
    "    for i in range(N):\n",
    "        for j in range(i,N):\n",
    "            if TARIFAS[i][j] < 999:\n",
    "                G.add_edge(str(i),str(j), weight=TARIFAS[i][j])\n",
    "                \n",
    "    edge_labels=dict([((u,v,),d['weight']) for u,v,d in G.edges(data=True)])\n",
    "    print(\"labels\")\n",
    "    print(edge_labels)\n",
    "    pos=nx.kamada_kawai_layout(G)\n",
    "    #pos=nx.spring_layout(G,k=1,iterations=1000)\n",
    "    #pos=nx.spectral_layout(G)\n",
    "    print(\"pos\")\n",
    "    print(pos)\n",
    "    nx.draw(G,pos,with_labels=True)\n",
    "    nx.draw_networkx_edge_labels(G,pos,with_labels=True,edge_labels=edge_labels)\n",
    "    plt.show()            "
   ]
  },
  {
   "cell_type": "code",
   "execution_count": 15,
   "metadata": {},
   "outputs": [
    {
     "name": "stdout",
     "output_type": "stream",
     "text": [
      "labels\n",
      "{('0', '0'): 0, ('0', '1'): 5, ('0', '2'): 4, ('0', '3'): 3, ('1', '1'): 0, ('1', '3'): 2, ('1', '4'): 3, ('1', '6'): 11, ('2', '2'): 0, ('2', '3'): 1, ('2', '5'): 4, ('2', '6'): 10, ('3', '3'): 0, ('3', '4'): 5, ('3', '5'): 6, ('3', '6'): 9, ('4', '4'): 0, ('4', '6'): 4, ('5', '5'): 0, ('5', '6'): 3, ('6', '6'): 0}\n",
      "pos\n",
      "{'0': array([-0.0609772,  1.       ]), '1': array([0.36966617, 0.20030217]), '2': array([-0.13626678,  0.29758486]), '3': array([0.02393638, 0.41137607]), '4': array([ 0.4444589 , -0.42239555]), '5': array([-0.49773125, -0.50484037]), '6': array([-0.14308623, -0.98202719])}\n"
     ]
    },
    {
     "data": {
      "image/png": "[encoded data removed]",
      "text/plain": [
       "<Figure size 432x288 with 1 Axes>"
      ]
     },
     "metadata": {},
     "output_type": "display_data"
    },
    {
     "name": "stdout",
     "output_type": "stream",
     "text": [
      "PRECIOS:  [[0, 5, 4, 3, 8, 8, 11], [999, 0, 999, 2, 3, 8, 7], [999, 999, 0, 1, 6, 4, 7], [999, 999, 999, 0, 5, 6, 9], [999, 999, 999, 999, 0, 999, 4], [999, 999, 999, 999, 999, 0, 3], [9999, 9999, 9999, 9999, 9999, 9999, 9999]]\n",
      "\n",
      "RUTAS:  [[0, 0, 0, 0, 1, 2, 5], [1, 1, 1, 1, 1, 3, 4], [2, 2, 2, 2, 3, 2, 5], [3, 3, 3, 3, 3, 3, 3], [4, 4, 4, 4, 4, 4, 4], [5, 5, 5, 5, 5, 5, 5], ['', '', '', '', '', '', '']]\n",
      "\n",
      "La ruta es:\n"
     ]
    },
    {
     "data": {
      "text/plain": [
       "'0,0,2,5'"
      ]
     },
     "execution_count": 15,
     "metadata": {},
     "output_type": "execute_result"
    }
   ],
   "source": [
    "TARIFAS = [[0,5,4,3,999,999,999],\n",
    "           [999,0,999,2,3,999,11],\n",
    "           [999,999, 0,1,999,4,10],\n",
    "           [999,999,999, 0,5,6,9],\n",
    "           [999,999, 999,999,0,999,4],\n",
    "           [999,999, 999,999,999,0,3],\n",
    "           [999,999,999,999,999,999,0]]\n",
    "\n",
    "dibujarGrafo(TARIFAS)\n",
    "PRECIOS, RUTAS= precios(TARIFAS)\n",
    "print(\"PRECIOS: \",PRECIOS)\n",
    "print()\n",
    "print(\"RUTAS: \", RUTAS)\n",
    "print(\"\\nLa ruta es:\") \n",
    "calcular_ruta(RUTAS, 0,6)"
   ]
  },
  {
   "cell_type": "code",
   "execution_count": null,
   "metadata": {},
   "outputs": [],
   "source": []
  }
 ],
 "metadata": {
  "colab": {
   "include_colab_link": true,
   "name": "SamuelJimenezPalomino-AG2.ipynb",
   "provenance": [],
   "version": "0.3.2"
  },
  "kernelspec": {
   "display_name": "Python 3",
   "language": "python",
   "name": "python3"
  },
  "language_info": {
   "codemirror_mode": {
    "name": "ipython",
    "version": 3
   },
   "file_extension": ".py",
   "mimetype": "text/x-python",
   "name": "python",
   "nbconvert_exporter": "python",
   "pygments_lexer": "ipython3",
   "version": "3.7.2"
  }
 },
 "nbformat": 4,
 "nbformat_minor": 1
}
