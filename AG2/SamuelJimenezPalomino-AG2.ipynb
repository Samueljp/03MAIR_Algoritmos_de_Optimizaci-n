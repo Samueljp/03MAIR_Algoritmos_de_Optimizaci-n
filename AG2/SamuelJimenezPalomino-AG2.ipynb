{
 "cells": [
  {
   "cell_type": "markdown",
   "metadata": {
    "colab_type": "text",
    "id": "view-in-github"
   },
   "source": [
    "<a href=\"https://colab.research.google.com/github/Samueljp/03MAIR_Algoritmos_de_Optimizaci-n/blob/develop/AG2/SamuelJimenezPalomino-AG2.ipynb\" target=\"_parent\"><img src=\"https://colab.research.google.com/assets/colab-badge.svg\" alt=\"Open In Colab\"/></a>"
   ]
  },
  {
   "cell_type": "markdown",
   "metadata": {
    "colab_type": "text",
    "id": "pMZkQV4JHvVd"
   },
   "source": [
    "## ACTIVIDAD GUIADA 2\n",
    "#### Autor: Samuel Jiménez Palomino\n",
    "#### URL: https://github.com/Samueljp/03MAIR_Algoritmos_de_Optimizaci-n/blob/develop/AG2"
   ]
  },
  {
   "cell_type": "code",
   "execution_count": 15,
   "metadata": {},
   "outputs": [],
   "source": [
    "#Decorador para calcular_tiempo a la función para la cual queremos calcular el tiempo de ejecución(Isabel Vázquez)\n",
    "from time import time\n",
    "#Función para calcular el tiempo de ejecución\n",
    "def calcular_tiempo(f):\n",
    "   \n",
    "    def wrapper(*args, **kwargs):        \n",
    "        inicio = time()       \n",
    "        resultado = f(*args, **kwargs)       \n",
    "        tiempo = time() - inicio\n",
    "        print(\"Tiempo de ejecución para algoritmo: \"+str(tiempo))\n",
    "        return resultado\n",
    "    \n",
    "    return wrapper"
   ]
  },
  {
   "cell_type": "code",
   "execution_count": 2,
   "metadata": {
    "colab": {},
    "colab_type": "code",
    "id": "J3t-Cm8LHvVg"
   },
   "outputs": [],
   "source": [
    "import math\n",
    "def distancia(A,B):\n",
    "    if type(A) is int or type(A) is float:\n",
    "        return abs(B-A)\n",
    "    else:\n",
    "        return math.sqrt(sum([(A[i]-B[i])**2 for i in range(len(A))]))"
   ]
  },
  {
   "cell_type": "code",
   "execution_count": 5,
   "metadata": {},
   "outputs": [],
   "source": [
    "#distancia((1,3),(5,8))"
   ]
  },
  {
   "cell_type": "code",
   "execution_count": 12,
   "metadata": {},
   "outputs": [],
   "source": [
    "import random\n",
    "\n",
    "N=3000\n",
    "lista_2D = [(random.randrange(1,N*10),random.randrange(1,N*10)) for _ in range(N)]\n"
   ]
  },
  {
   "cell_type": "code",
   "execution_count": 66,
   "metadata": {},
   "outputs": [],
   "source": [
    "#Fuerza Bruta\n",
    "def distancia_fuerza_bruta(L):\n",
    "    mejor_distancia = math.inf\n",
    "    A,B = (),()\n",
    "    for i in range(len(L)):\n",
    "        for j in range(i+1,len(L)):\n",
    "            wdistancia = distancia(L[i],L[j])\n",
    "            if wdistancia < mejor_distancia:\n",
    "                A,B = L[i],L[j]\n",
    "                mejor_distancia = wdistancia\n",
    "    return [A,B]"
   ]
  },
  {
   "cell_type": "code",
   "execution_count": 67,
   "metadata": {},
   "outputs": [
    {
     "data": {
      "text/plain": [
       "[(28423, 11919), (28424, 11918)]"
      ]
     },
     "execution_count": 67,
     "metadata": {},
     "output_type": "execute_result"
    }
   ],
   "source": [
    "distancia_fuerza_bruta(lista_2D)"
   ]
  },
  {
   "cell_type": "code",
   "execution_count": 70,
   "metadata": {},
   "outputs": [],
   "source": [
    "def distancia_divide_y_vencerasR(L):\n",
    "    # Si hay pocos por Fuerza Bruta\n",
    "    if len(L) < 10:\n",
    "        return distancia_fuerza_bruta(L)\n",
    "\n",
    "    # Selección de pivote para dividir\n",
    "    # pivote = sum(L[i][0] for i in range(len(L))) / len(L)\n",
    "    # print(pivote)\n",
    "    \n",
    "    LISTA_IZQ = sorted(L, key=lambda x: x[0])[:len(L)//2]\n",
    "    LISTA_DER = sorted(L, key=lambda x: x[0])[len(L)//2:]\n",
    "    # print(LISTA_IZQ)\n",
    "    # print(LISTA_DER)\n",
    "    \n",
    "    PUNTOS_LISTA_IZQ = distancia_divide_y_vencerasR(LISTA_IZQ) \n",
    "    PUNTOS_LISTA_DER = distancia_divide_y_vencerasR(LISTA_DER) \n",
    "    return distancia_fuerza_bruta(PUNTOS_LISTA_IZQ + PUNTOS_LISTA_DER)\n",
    "\n",
    "@calcular_tiempo    \n",
    "def distancia_divide_y_venceras(L):\n",
    "    return distancia_divide_y_vencerasR(L)    "
   ]
  },
  {
   "cell_type": "code",
   "execution_count": 72,
   "metadata": {},
   "outputs": [
    {
     "name": "stdout",
     "output_type": "stream",
     "text": [
      "Tiempo de ejecución para algoritmo: 0.03699803352355957\n"
     ]
    },
    {
     "data": {
      "text/plain": [
       "[(28423, 11919), (28424, 11918)]"
      ]
     },
     "execution_count": 72,
     "metadata": {},
     "output_type": "execute_result"
    }
   ],
   "source": [
    "distancia_divide_y_venceras(lista_2D)"
   ]
  },
  {
   "cell_type": "code",
   "execution_count": 92,
   "metadata": {},
   "outputs": [],
   "source": [
    "TARIFAS = [[0,5,4,3,999,999,999],\n",
    "           [999,0,999,2,3,999,11],\n",
    "           [999,999, 0,1,999,4,10],\n",
    "           [999,999,999, 0,5,6,9],\n",
    "           [999,999, 999,999,0,999,4],\n",
    "           [999,999, 999,999,999,0,3],\n",
    "           [999,999,999,999,999,999,0]]"
   ]
  },
  {
   "cell_type": "code",
   "execution_count": 94,
   "metadata": {},
   "outputs": [],
   "source": [
    "def calcular_ruta(RUTA, desde, hasta):\n",
    "    if desde == hasta: \n",
    "        #print(\"Ir a :\" + str(desde)) \n",
    "        return desde \n",
    "    else: \n",
    "        return str(calcular_ruta(RUTA, desde, RUTA[desde][hasta])) + ',' + str(RUTA[desde][hasta]) "
   ]
  },
  {
   "cell_type": "code",
   "execution_count": 95,
   "metadata": {},
   "outputs": [],
   "source": [
    "#Paseo por el rio\n",
    "def PreciosR(TARIFAS):\n",
    "    N = len(TARIFAS[0])\n",
    "    \n",
    "    PRECIOS = [[9999]*N for i in [9999]*N]\n",
    "    RUTA =[ [\"\"]*N for i in [9999]*N]\n",
    "    \n",
    "    for i in range(N-1):\n",
    "        for j in range(i+1,N):\n",
    "            MIN = TARIFAS[i][j]\n",
    "            RUTA[i][j] = i\n",
    "            \n",
    "            for k in range(i,j):\n",
    "                if PRECIOS[i][k] + TARIFAS[k][j] < MIN:\n",
    "                    MIN = PRECIOS[i][k] + TARIFAS[k][j]\n",
    "                    RUTA[i][j] = k\n",
    "            PRECIOS[i][j] = MIN\n",
    "    return PRECIOS,RUTA\n"
   ]
  },
  {
   "cell_type": "code",
   "execution_count": 98,
   "metadata": {},
   "outputs": [
    {
     "name": "stdout",
     "output_type": "stream",
     "text": [
      "[[9999, 5, 4, 3, 8, 8, 11], [9999, 9999, 999, 2, 3, 8, 7], [9999, 9999, 9999, 1, 6, 4, 7], [9999, 9999, 9999, 9999, 5, 6, 9], [9999, 9999, 9999, 9999, 9999, 999, 4], [9999, 9999, 9999, 9999, 9999, 9999, 3], [9999, 9999, 9999, 9999, 9999, 9999, 9999]]\n",
      "\n",
      "[['', 0, 0, 0, 1, 2, 5], ['', '', 1, 1, 1, 3, 4], ['', '', '', 2, 3, 2, 5], ['', '', '', '', 3, 3, 3], ['', '', '', '', '', 4, 4], ['', '', '', '', '', '', 5], ['', '', '', '', '', '', '']]\n",
      "\n",
      "La ruta es:\n"
     ]
    },
    {
     "data": {
      "text/plain": [
       "'0,0,2,5'"
      ]
     },
     "execution_count": 98,
     "metadata": {},
     "output_type": "execute_result"
    }
   ],
   "source": [
    "PRECIOS, RUTA = PreciosR(TARIFAS)\n",
    "print(PRECIOS)\n",
    "print()\n",
    "print(RUTA)\n",
    "print(\"\\nLa ruta es:\") \n",
    "calcular_ruta(RUTA, 0,6)"
   ]
  },
  {
   "cell_type": "code",
   "execution_count": null,
   "metadata": {},
   "outputs": [],
   "source": []
  }
 ],
 "metadata": {
  "colab": {
   "include_colab_link": true,
   "name": "SamuelJimenezPalomino-AG2.ipynb",
   "provenance": [],
   "version": "0.3.2"
  },
  "kernelspec": {
   "display_name": "Python 3",
   "language": "python",
   "name": "python3"
  },
  "language_info": {
   "codemirror_mode": {
    "name": "ipython",
    "version": 3
   },
   "file_extension": ".py",
   "mimetype": "text/x-python",
   "name": "python",
   "nbconvert_exporter": "python",
   "pygments_lexer": "ipython3",
   "version": "3.7.2"
  }
 },
 "nbformat": 4,
 "nbformat_minor": 1
}
