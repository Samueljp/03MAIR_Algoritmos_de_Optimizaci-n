{
 "cells": [
  {
   "cell_type": "markdown",
   "metadata": {
    "colab_type": "text",
    "id": "view-in-github"
   },
   "source": [
    "<a href=\"https://colab.research.google.com/github/Samueljp/03MAIR_Algoritmos_de_Optimizaci-n/blob/develop/AG2/SamuelJimenezPalomino-AG2.ipynb\" target=\"_parent\"><img src=\"https://colab.research.google.com/assets/colab-badge.svg\" alt=\"Open In Colab\"/></a>"
   ]
  },
  {
   "cell_type": "markdown",
   "metadata": {
    "colab_type": "text",
    "id": "pMZkQV4JHvVd"
   },
   "source": [
    "## ACTIVIDAD GUIADA 2\n",
    "#### Autor: Samuel Jiménez Palomino\n",
    "#### URL: https://github.com/Samueljp/03MAIR_Algoritmos_de_Optimizaci-n/blob/develop/AG2"
   ]
  },
  {
   "cell_type": "code",
   "execution_count": 2,
   "metadata": {
    "colab": {},
    "colab_type": "code",
    "id": "J3t-Cm8LHvVg"
   },
   "outputs": [],
   "source": [
    "import math\n",
    "def distancia(A,B):\n",
    "    if type(A) is int or type(A) is float:\n",
    "        return abs(B-A)\n",
    "    else:\n",
    "        return math.sqrt(sum([(A[i]-B[i])**2 for i in range(len(A))]))"
   ]
  },
  {
   "cell_type": "code",
   "execution_count": 5,
   "metadata": {},
   "outputs": [],
   "source": [
    "#distancia((1,3),(5,8))"
   ]
  },
  {
   "cell_type": "code",
   "execution_count": 12,
   "metadata": {},
   "outputs": [],
   "source": [
    "import random\n",
    "\n",
    "N=3000\n",
    "lista_2D = [(random.randrange(1,N*10),random.randrange(1,N*10)) for _ in range(N)]\n"
   ]
  },
  {
   "cell_type": "code",
   "execution_count": 13,
   "metadata": {},
   "outputs": [],
   "source": [
    "#Fuerza Bruta\n",
    "def distancia_fuerza_bruta(L):\n",
    "    mejor_distancia = math.inf\n",
    "    A,B = (),()\n",
    "    for i in range(len(L)):\n",
    "        for j in range(i+1,len(L)):\n",
    "            wdistancia = distancia(L[i],L[j])\n",
    "            if wdistancia < mejor_distancia:\n",
    "                A,B = L[i],L[j]\n",
    "                mejor_distancia = wdistancia\n",
    "    return [A,B]"
   ]
  },
  {
   "cell_type": "code",
   "execution_count": 14,
   "metadata": {},
   "outputs": [
    {
     "data": {
      "text/plain": [
       "[(28423, 11919), (28424, 11918)]"
      ]
     },
     "execution_count": 14,
     "metadata": {},
     "output_type": "execute_result"
    }
   ],
   "source": [
    "distancia_fuerza_bruta(lista_2D)"
   ]
  },
  {
   "cell_type": "code",
   "execution_count": null,
   "metadata": {},
   "outputs": [],
   "source": []
  }
 ],
 "metadata": {
  "colab": {
   "include_colab_link": true,
   "name": "SamuelJimenezPalomino-AG2.ipynb",
   "provenance": [],
   "version": "0.3.2"
  },
  "kernelspec": {
   "display_name": "Python 3",
   "language": "python",
   "name": "python3"
  },
  "language_info": {
   "codemirror_mode": {
    "name": "ipython",
    "version": 3
   },
   "file_extension": ".py",
   "mimetype": "text/x-python",
   "name": "python",
   "nbconvert_exporter": "python",
   "pygments_lexer": "ipython3",
   "version": "3.7.2"
  }
 },
 "nbformat": 4,
 "nbformat_minor": 1
}
